{
 "cells": [
  {
   "cell_type": "markdown",
   "metadata": {},
   "source": [
    " # Day2"
   ]
  },
  {
   "cell_type": "markdown",
   "metadata": {},
   "source": [
    "### String slicing"
   ]
  },
  {
   "cell_type": "code",
   "execution_count": 2,
   "metadata": {},
   "outputs": [],
   "source": [
    "s1=\"Python\""
   ]
  },
  {
   "cell_type": "code",
   "execution_count": 3,
   "metadata": {},
   "outputs": [
    {
     "data": {
      "text/plain": [
       "'Python'"
      ]
     },
     "execution_count": 3,
     "metadata": {},
     "output_type": "execute_result"
    }
   ],
   "source": [
    "s1\n"
   ]
  },
  {
   "cell_type": "code",
   "execution_count": 5,
   "metadata": {},
   "outputs": [
    {
     "data": {
      "text/plain": [
       "'y'"
      ]
     },
     "execution_count": 5,
     "metadata": {},
     "output_type": "execute_result"
    }
   ],
   "source": [
    "s1[1]"
   ]
  },
  {
   "cell_type": "code",
   "execution_count": 6,
   "metadata": {},
   "outputs": [
    {
     "data": {
      "text/plain": [
       "'n'"
      ]
     },
     "execution_count": 6,
     "metadata": {},
     "output_type": "execute_result"
    }
   ],
   "source": [
    "s1[-1] #or s1[len(s1)-1]"
   ]
  },
  {
   "cell_type": "code",
   "execution_count": 7,
   "metadata": {},
   "outputs": [
    {
     "data": {
      "text/plain": [
       "'o'"
      ]
     },
     "execution_count": 7,
     "metadata": {},
     "output_type": "execute_result"
    }
   ],
   "source": [
    "s1[-2]\n"
   ]
  },
  {
   "cell_type": "code",
   "execution_count": 8,
   "metadata": {},
   "outputs": [
    {
     "data": {
      "text/plain": [
       "'on'"
      ]
     },
     "execution_count": 8,
     "metadata": {},
     "output_type": "execute_result"
    }
   ],
   "source": [
    "s1[-2:]"
   ]
  },
  {
   "cell_type": "code",
   "execution_count": 9,
   "metadata": {},
   "outputs": [
    {
     "data": {
      "text/plain": [
       "'o'"
      ]
     },
     "execution_count": 9,
     "metadata": {},
     "output_type": "execute_result"
    }
   ],
   "source": [
    "s1[4]"
   ]
  },
  {
   "cell_type": "code",
   "execution_count": 14,
   "metadata": {},
   "outputs": [
    {
     "data": {
      "text/plain": [
       "6"
      ]
     },
     "execution_count": 14,
     "metadata": {},
     "output_type": "execute_result"
    }
   ],
   "source": [
    "len(s1)"
   ]
  },
  {
   "cell_type": "code",
   "execution_count": 15,
   "metadata": {},
   "outputs": [],
   "source": [
    "a=len(s1)//2"
   ]
  },
  {
   "cell_type": "code",
   "execution_count": 20,
   "metadata": {
    "scrolled": true
   },
   "outputs": [
    {
     "data": {
      "text/plain": [
       "'h'"
      ]
     },
     "execution_count": 20,
     "metadata": {},
     "output_type": "execute_result"
    }
   ],
   "source": [
    "s1[a]"
   ]
  },
  {
   "cell_type": "code",
   "execution_count": 24,
   "metadata": {},
   "outputs": [
    {
     "name": "stdout",
     "output_type": "stream",
     "text": [
      "stirng\n"
     ]
    }
   ],
   "source": [
    "a=\"stirng\"\n",
    "print(a)"
   ]
  },
  {
   "cell_type": "code",
   "execution_count": 25,
   "metadata": {},
   "outputs": [
    {
     "name": "stdout",
     "output_type": "stream",
     "text": [
      "3\n"
     ]
    }
   ],
   "source": [
    "b=3\n",
    "print(b)"
   ]
  },
  {
   "cell_type": "code",
   "execution_count": 26,
   "metadata": {},
   "outputs": [
    {
     "ename": "TypeError",
     "evalue": "can only concatenate str (not \"int\") to str",
     "output_type": "error",
     "traceback": [
      "\u001b[1;31m---------------------------------------------------------------------------\u001b[0m",
      "\u001b[1;31mTypeError\u001b[0m                                 Traceback (most recent call last)",
      "\u001b[1;32m<ipython-input-26-ea02352b35aa>\u001b[0m in \u001b[0;36m<module>\u001b[1;34m\u001b[0m\n\u001b[1;32m----> 1\u001b[1;33m \u001b[0mc\u001b[0m\u001b[1;33m=\u001b[0m\u001b[0ma\u001b[0m\u001b[1;33m+\u001b[0m\u001b[0mb\u001b[0m\u001b[1;33m\u001b[0m\u001b[1;33m\u001b[0m\u001b[0m\n\u001b[0m\u001b[0;32m      2\u001b[0m \u001b[0mprint\u001b[0m\u001b[1;33m(\u001b[0m\u001b[0mc\u001b[0m\u001b[1;33m)\u001b[0m\u001b[1;33m\u001b[0m\u001b[1;33m\u001b[0m\u001b[0m\n",
      "\u001b[1;31mTypeError\u001b[0m: can only concatenate str (not \"int\") to str"
     ]
    }
   ],
   "source": [
    "c=a+b\n",
    "print(c)"
   ]
  },
  {
   "cell_type": "code",
   "execution_count": 27,
   "metadata": {},
   "outputs": [],
   "source": [
    "c=a*b"
   ]
  },
  {
   "cell_type": "code",
   "execution_count": 28,
   "metadata": {},
   "outputs": [
    {
     "data": {
      "text/plain": [
       "'stirngstirngstirng'"
      ]
     },
     "execution_count": 28,
     "metadata": {},
     "output_type": "execute_result"
    }
   ],
   "source": [
    "c"
   ]
  },
  {
   "cell_type": "code",
   "execution_count": 29,
   "metadata": {},
   "outputs": [
    {
     "ename": "TypeError",
     "evalue": "unsupported operand type(s) for /: 'str' and 'int'",
     "output_type": "error",
     "traceback": [
      "\u001b[1;31m---------------------------------------------------------------------------\u001b[0m",
      "\u001b[1;31mTypeError\u001b[0m                                 Traceback (most recent call last)",
      "\u001b[1;32m<ipython-input-29-5b776b34f585>\u001b[0m in \u001b[0;36m<module>\u001b[1;34m\u001b[0m\n\u001b[1;32m----> 1\u001b[1;33m \u001b[0mc\u001b[0m\u001b[1;33m=\u001b[0m\u001b[0ma\u001b[0m\u001b[1;33m/\u001b[0m\u001b[0mb\u001b[0m\u001b[1;33m\u001b[0m\u001b[1;33m\u001b[0m\u001b[0m\n\u001b[0m",
      "\u001b[1;31mTypeError\u001b[0m: unsupported operand type(s) for /: 'str' and 'int'"
     ]
    }
   ],
   "source": [
    "c=a/b"
   ]
  },
  {
   "cell_type": "code",
   "execution_count": 30,
   "metadata": {},
   "outputs": [
    {
     "ename": "TypeError",
     "evalue": "unsupported operand type(s) for -: 'str' and 'int'",
     "output_type": "error",
     "traceback": [
      "\u001b[1;31m---------------------------------------------------------------------------\u001b[0m",
      "\u001b[1;31mTypeError\u001b[0m                                 Traceback (most recent call last)",
      "\u001b[1;32m<ipython-input-30-508c408ffd98>\u001b[0m in \u001b[0;36m<module>\u001b[1;34m\u001b[0m\n\u001b[1;32m----> 1\u001b[1;33m \u001b[0mc\u001b[0m\u001b[1;33m=\u001b[0m\u001b[0ma\u001b[0m\u001b[1;33m-\u001b[0m\u001b[0mb\u001b[0m\u001b[1;33m\u001b[0m\u001b[1;33m\u001b[0m\u001b[0m\n\u001b[0m",
      "\u001b[1;31mTypeError\u001b[0m: unsupported operand type(s) for -: 'str' and 'int'"
     ]
    }
   ],
   "source": [
    "c=a-b"
   ]
  },
  {
   "cell_type": "code",
   "execution_count": 31,
   "metadata": {},
   "outputs": [],
   "source": [
    "c=\"ad\""
   ]
  },
  {
   "cell_type": "code",
   "execution_count": 32,
   "metadata": {},
   "outputs": [],
   "source": [
    "a=\"ad\""
   ]
  },
  {
   "cell_type": "code",
   "execution_count": 33,
   "metadata": {},
   "outputs": [
    {
     "ename": "TypeError",
     "evalue": "can't multiply sequence by non-int of type 'str'",
     "output_type": "error",
     "traceback": [
      "\u001b[1;31m---------------------------------------------------------------------------\u001b[0m",
      "\u001b[1;31mTypeError\u001b[0m                                 Traceback (most recent call last)",
      "\u001b[1;32m<ipython-input-33-34f3ecf77357>\u001b[0m in \u001b[0;36m<module>\u001b[1;34m\u001b[0m\n\u001b[1;32m----> 1\u001b[1;33m \u001b[0mprint\u001b[0m\u001b[1;33m(\u001b[0m\u001b[0mc\u001b[0m\u001b[1;33m*\u001b[0m\u001b[0ma\u001b[0m\u001b[1;33m)\u001b[0m\u001b[1;33m\u001b[0m\u001b[1;33m\u001b[0m\u001b[0m\n\u001b[0m",
      "\u001b[1;31mTypeError\u001b[0m: can't multiply sequence by non-int of type 'str'"
     ]
    }
   ],
   "source": [
    "print(c*a)\n"
   ]
  },
  {
   "cell_type": "code",
   "execution_count": 37,
   "metadata": {},
   "outputs": [
    {
     "data": {
      "text/plain": [
       "True"
      ]
     },
     "execution_count": 37,
     "metadata": {},
     "output_type": "execute_result"
    }
   ],
   "source": [
    "def palindrome(s):\n",
    "    if s==s[::-1]:\n",
    "        return True\n",
    "    else:\n",
    "        return False\n",
    "palindrome('232')"
   ]
  },
  {
   "cell_type": "code",
   "execution_count": 42,
   "metadata": {},
   "outputs": [
    {
     "data": {
      "text/plain": [
       "False"
      ]
     },
     "execution_count": 42,
     "metadata": {},
     "output_type": "execute_result"
    }
   ],
   "source": [
    "def isLeapyear(year):\n",
    "    if year%400==0 or(year%100!=0 and year%4==0):\n",
    "        return True\n",
    "    return False\n",
    "isLeapyear(1995)"
   ]
  },
  {
   "cell_type": "code",
   "execution_count": 46,
   "metadata": {},
   "outputs": [
    {
     "data": {
      "text/plain": [
       "4"
      ]
     },
     "execution_count": 46,
     "metadata": {},
     "output_type": "execute_result"
    }
   ],
   "source": [
    "#functio to count the no of digits in a given number\n",
    "def digits(n):\n",
    "    return (len(str(n)))\n",
    "digits(1234)"
   ]
  },
  {
   "cell_type": "code",
   "execution_count": 52,
   "metadata": {},
   "outputs": [
    {
     "data": {
      "text/plain": [
       "'c is greater'"
      ]
     },
     "execution_count": 52,
     "metadata": {},
     "output_type": "execute_result"
    }
   ],
   "source": [
    "#fun to identify the greatest of 4 numbers\n",
    "def great(a,b,c,d):\n",
    "    if a>b and a>c and a>d:\n",
    "        return \"a is greater\"\n",
    "    elif  b>c and b>d:\n",
    "        return \"b is greater\"\n",
    "    elif  c>d:\n",
    "        return \"c is greater\"\n",
    "    return \"d is greater\"\n",
    "\n",
    "great(12,33,67,65)\n",
    "    "
   ]
  },
  {
   "cell_type": "markdown",
   "metadata": {},
   "source": [
    "## iteration in python"
   ]
  },
  {
   "cell_type": "code",
   "execution_count": 4,
   "metadata": {},
   "outputs": [
    {
     "name": "stdout",
     "output_type": "stream",
     "text": [
      "6 12 18 24 30 36 42 48 54 60 66 72 78 84 90 96 "
     ]
    },
    {
     "data": {
      "text/plain": [
       "False"
      ]
     },
     "execution_count": 4,
     "metadata": {},
     "output_type": "execute_result"
    }
   ],
   "source": [
    "#func to print all the numbers divisible by 6 and not divisible by 100 giving the lb up inclusive\n",
    "def div6(lb,up):\n",
    "    for i in range(lb,up+1):\n",
    "        if i%6==0 and i%100!=0:\n",
    "            print(i,end=\" \")\n",
    "    return False\n",
    "div6(1,100)\n"
   ]
  },
  {
   "cell_type": "code",
   "execution_count": 16,
   "metadata": {},
   "outputs": [
    {
     "name": "stdout",
     "output_type": "stream",
     "text": [
      "2\n",
      "8\n",
      "1\n",
      "8\n",
      "4\n",
      "64\n",
      "2\n",
      "72\n"
     ]
    },
    {
     "data": {
      "text/plain": [
       "36"
      ]
     },
     "execution_count": 16,
     "metadata": {},
     "output_type": "execute_result"
    }
   ],
   "source": [
    "#func to find the avg of all cubes of a even no ina given range\n",
    "def even(lb,up):\n",
    "    s=0\n",
    "    count=0\n",
    "    for i in range(lb,up+1):\n",
    "        \n",
    "        if i%2==0:\n",
    "            \n",
    "            print(i)\n",
    "            cube=i**3\n",
    "            print(cube)\n",
    "            count+=1\n",
    "            print(count)\n",
    "            s=s+cube\n",
    "            print(s)\n",
    "    avg=s//count\n",
    "    return avg\n",
    "even(1,5)\n",
    "            \n",
    "            "
   ]
  },
  {
   "cell_type": "code",
   "execution_count": 26,
   "metadata": {},
   "outputs": [
    {
     "name": "stdout",
     "output_type": "stream",
     "text": [
      "1\t2\t3\t4\t6\t12\t"
     ]
    }
   ],
   "source": [
    "#function to generate the list of factors for a given number \n",
    "\n",
    "def factor(n):\n",
    "    for i in range(1,n+1):\n",
    "        if n%i==0:\n",
    "            print(i,end=\"\\t\")\n",
    "            \n",
    "        \n",
    "    \n",
    "factor(12)          "
   ]
  },
  {
   "cell_type": "code",
   "execution_count": 1,
   "metadata": {},
   "outputs": [
    {
     "data": {
      "text/plain": [
       "24"
      ]
     },
     "execution_count": 1,
     "metadata": {},
     "output_type": "execute_result"
    }
   ],
   "source": [
    "#function to calculate the factorial of a given number\n",
    "def fact(n):\n",
    "    a=1\n",
    "    for i in range(1,n+1,1):\n",
    "        \n",
    "        a=a*i\n",
    "    return a    \n",
    "    \n",
    "fact(4)"
   ]
  },
  {
   "cell_type": "code",
   "execution_count": 22,
   "metadata": {},
   "outputs": [
    {
     "name": "stdout",
     "output_type": "stream",
     "text": [
      "2 3 5 7 \n",
      "17\n",
      "4\n"
     ]
    },
    {
     "data": {
      "text/plain": [
       "4.25"
      ]
     },
     "execution_count": 22,
     "metadata": {},
     "output_type": "execute_result"
    }
   ],
   "source": [
    "#function to check if a given num is prime\n",
    "def isprime(n):\n",
    "    flag=0\n",
    "    for i in range(1,n+1):\n",
    "        a=n%i\n",
    "        \n",
    "        if a==0:\n",
    "            flag+=1\n",
    "    if flag==2:\n",
    "        return True\n",
    "    else:\n",
    "        return False\n",
    "    \n",
    "\n",
    "def primegen(a):\n",
    "    sum=0\n",
    "    count=0\n",
    "    for i in range(1,a+1):\n",
    "        if isprime(i):\n",
    "            print(i,end=\" \")\n",
    "            count=count+1\n",
    "            sum=sum+i\n",
    "    print()\n",
    "    print(sum)\n",
    "    print(count)\n",
    "    return sum/count\n",
    "        \n",
    "            \n",
    "        \n",
    "    \n",
    "primegen(10)      \n"
   ]
  },
  {
   "cell_type": "code",
   "execution_count": null,
   "metadata": {},
   "outputs": [],
   "source": [
    "#function to generate to all prefect numbers in a given range\n"
   ]
  },
  {
   "cell_type": "code",
   "execution_count": 37,
   "metadata": {},
   "outputs": [
    {
     "name": "stdout",
     "output_type": "stream",
     "text": [
      "6 28 "
     ]
    }
   ],
   "source": [
    "def perfect(n):\n",
    "    for j in range(1,n+1):\n",
    "        sum=0\n",
    "        for i in range(1,j+1):\n",
    "            if j%i==0:\n",
    "                sum=sum+i\n",
    "        #print(sum,end=\" \")\n",
    "        \n",
    "        if (sum-j)==j:\n",
    "             print(j,end=\" \")\n",
    "    \n",
    "        \n",
    "    \n",
    "perfect(30)\n",
    "        \n",
    "            "
   ]
  },
  {
   "cell_type": "code",
   "execution_count": 4,
   "metadata": {},
   "outputs": [
    {
     "data": {
      "text/plain": [
       "1461"
      ]
     },
     "execution_count": 4,
     "metadata": {},
     "output_type": "execute_result"
    }
   ],
   "source": [
    "def daysinamonth(m,year):\n",
    "    if ((m<=7 and m%2!=0 and m!=2) or (m>=8 and m%2==0 and m!=2)):\n",
    "        return 31\n",
    "    elif(m==2):\n",
    "        if year % 400 == 0 or (year % 100 !=0 and year % 4==0):\n",
    "            return 29\n",
    "        return 28\n",
    "    return 30\n",
    "    \n",
    "def daysinstartyear(startmonth,startyear):\n",
    "    days=0\n",
    "    for month in range(startmonth,13):\n",
    "        days+=daysinamonth(month,startyear)\n",
    "    return days\n",
    "def daysinendyear(endmonth,endyear):\n",
    "    days=0\n",
    "    for month in range(1,endmonth+1):\n",
    "        days+=daysinamonth(month,endyear)\n",
    "    return days\n",
    "def isLeapYear(year):\n",
    "    if year % 400 == 0 or (year % 100 !=0 and year % 4==0):\n",
    "        return True\n",
    "    return False \n",
    "isLeapYear(2000)\n",
    "def numberOfDays(sy,se):\n",
    "    sum =0\n",
    "    for year in range(sy,se+1):\n",
    "        if isLeapYear(year):\n",
    "            sum =sum +366\n",
    "        else:\n",
    "            sum = sum +365\n",
    "        \n",
    "    return sum\n",
    "\n",
    "\n",
    "def noofhours(startmonth,startyear,endmonth,endyear):\n",
    "    \n",
    "    days=0\n",
    "    days3=0\n",
    "    days1=daysinstartyear(startmonth,startyear)\n",
    "    days2=daysinendyear(endmonth,endyear)\n",
    "    if endyear-startyear==2:\n",
    "        days3+= numberOfDays(startyear+1,startyear+1)\n",
    "        return days3\n",
    "    elif endyear-startyear>2:\n",
    "        days3+= numberOfDays(startyear+1,endyear+1)\n",
    "        return days3\n",
    "    days=days1+days2+days3\n",
    "    return days*24\n",
    "    \n",
    "        \n",
    "noofhours(6,1997,9,2000)      \n",
    "        "
   ]
  },
  {
   "cell_type": "code",
   "execution_count": null,
   "metadata": {},
   "outputs": [],
   "source": []
  }
 ],
 "metadata": {
  "kernelspec": {
   "display_name": "Python 3",
   "language": "python",
   "name": "python3"
  },
  "language_info": {
   "codemirror_mode": {
    "name": "ipython",
    "version": 3
   },
   "file_extension": ".py",
   "mimetype": "text/x-python",
   "name": "python",
   "nbconvert_exporter": "python",
   "pygments_lexer": "ipython3",
   "version": "3.7.3"
  }
 },
 "nbformat": 4,
 "nbformat_minor": 2
}
