{
 "cells": [
  {
   "cell_type": "markdown",
   "metadata": {},
   "source": [
    "### Function to generate Multiplication table for a number in a given range\n",
    "10 in the range(100, 102) inclusive<br>\n",
    "10 x 100 = 1000<br>\n",
    "10 x 101 = 1010<br>\n",
    "10 x 102 = 1020<br>"
   ]
  },
  {
   "cell_type": "code",
   "execution_count": 2,
   "metadata": {},
   "outputs": [
    {
     "name": "stdout",
     "output_type": "stream",
     "text": [
      "10 * 100 = 1000\n",
      "10 * 101 = 1010\n",
      "10 * 102 = 1020\n"
     ]
    }
   ],
   "source": [
    "def mul(lb,ub,n):\n",
    "    for i in range(lb,ub+1):\n",
    "        print(n,\"*\",i,\"=\",n*i)\n",
    "mul(100,102,10)"
   ]
  },
  {
   "cell_type": "markdown",
   "metadata": {},
   "source": [
    "#### You are given a string and your task is to swap cases. In other words, convert all lowercase letters to uppercase letters and vice versa. (The String may contain special characters)."
   ]
  },
  {
   "cell_type": "code",
   "execution_count": 12,
   "metadata": {},
   "outputs": [
    {
     "name": "stdout",
     "output_type": "stream",
     "text": [
      "aS#Ap"
     ]
    }
   ],
   "source": [
    "def swap(s):\n",
    "    for i in s:\n",
    "        \n",
    "        if i.isupper():\n",
    "            #s=s.replace(i,i.lower())\n",
    "            print(i.lower(),end=\"\")\n",
    "            \n",
    "        elif i.islower():\n",
    "            print(i.upper(),end=\"\")\n",
    "        else:\n",
    "            print(i,end=\"\")\n",
    "    \n",
    "swap(\"As#aP\")\n",
    " "
   ]
  },
  {
   "cell_type": "markdown",
   "metadata": {},
   "source": [
    "#### Given an integer, ’n’ , perform the following conditional actions:\n",
    "If ‘n’  is odd, print Weird<br>\n",
    "If  ‘n’ is even and in the inclusive range of 2 to 5, print Not Weird<br>\n",
    "If  ‘n’ is even and in the inclusive range of 6 to 20 , print Weird<br>\n",
    "If  ‘n’ is even and greater than 20, print Not Weird"
   ]
  },
  {
   "cell_type": "code",
   "execution_count": 23,
   "metadata": {},
   "outputs": [
    {
     "name": "stdout",
     "output_type": "stream",
     "text": [
      "weird\n"
     ]
    }
   ],
   "source": [
    "def no(n):\n",
    "    if n%2==0:\n",
    "        if 1<n<6:\n",
    "            print(\"not weird\")\n",
    "        elif 5<n<21:\n",
    "            print(\"weird\")\n",
    "        elif n>20:\n",
    "            print(\"not weird\")\n",
    "    else:\n",
    "        print(\"weird\")\n",
    "no(20)\n"
   ]
  },
  {
   "cell_type": "markdown",
   "metadata": {},
   "source": [
    "###### Given the participants ‘n’ score sheet for your University Sports Day, you are required to find the runner-up score. You are given scores. Store them in a list and find the score of the runner-up. \n",
    "##### (there can be multiple winners - if their scores match). "
   ]
  },
  {
   "cell_type": "markdown",
   "metadata": {},
   "source": [
    "###### Write a program to check if the word 'orange' is present in the \"This is orange juice\"."
   ]
  },
  {
   "cell_type": "code",
   "execution_count": 24,
   "metadata": {},
   "outputs": [
    {
     "name": "stdout",
     "output_type": "stream",
     "text": [
      "1\n"
     ]
    }
   ],
   "source": [
    "a=\"This is orange juice\"\n",
    "if \"orange\" in a :\n",
    "    print(\"1\")"
   ]
  },
  {
   "cell_type": "code",
   "execution_count": 26,
   "metadata": {},
   "outputs": [
    {
     "data": {
      "text/plain": [
       "['__call__',\n",
       " '__class__',\n",
       " '__delattr__',\n",
       " '__dir__',\n",
       " '__doc__',\n",
       " '__eq__',\n",
       " '__format__',\n",
       " '__ge__',\n",
       " '__get__',\n",
       " '__getattribute__',\n",
       " '__gt__',\n",
       " '__hash__',\n",
       " '__init__',\n",
       " '__init_subclass__',\n",
       " '__le__',\n",
       " '__lt__',\n",
       " '__name__',\n",
       " '__ne__',\n",
       " '__new__',\n",
       " '__objclass__',\n",
       " '__qualname__',\n",
       " '__reduce__',\n",
       " '__reduce_ex__',\n",
       " '__repr__',\n",
       " '__setattr__',\n",
       " '__sizeof__',\n",
       " '__str__',\n",
       " '__subclasshook__',\n",
       " '__text_signature__']"
      ]
     },
     "execution_count": 26,
     "metadata": {},
     "output_type": "execute_result"
    }
   ],
   "source": [
    "dir(str.translate)"
   ]
  },
  {
   "cell_type": "code",
   "execution_count": 33,
   "metadata": {},
   "outputs": [
    {
     "name": "stdout",
     "output_type": "stream",
     "text": [
      "{97: 100, 98: 101, 99: 102, 103: None, 104: None, 100: None}\n"
     ]
    },
    {
     "data": {
      "text/plain": [
       "'defefewesfs'"
      ]
     },
     "execution_count": 33,
     "metadata": {},
     "output_type": "execute_result"
    }
   ],
   "source": [
    "s=\"abcdefewesfs\"\n",
    "a=s.maketrans(\"abc\",\"def\",\"ghd\")\n",
    "print(a)\n",
    "s.translate(a)"
   ]
  },
  {
   "cell_type": "code",
   "execution_count": 39,
   "metadata": {},
   "outputs": [
    {
     "data": {
      "text/plain": [
       "['kfn', 'kenfkd', 'fnefn']"
      ]
     },
     "execution_count": 39,
     "metadata": {},
     "output_type": "execute_result"
    }
   ],
   "source": [
    "s=\"kfn kenfkd fnefn\"\n",
    "s.split()"
   ]
  },
  {
   "cell_type": "code",
   "execution_count": 41,
   "metadata": {},
   "outputs": [
    {
     "name": "stdout",
     "output_type": "stream",
     "text": [
      "k,f,n, ,k,e,n,f,k,d, ,f,n,e,f,n\n"
     ]
    }
   ],
   "source": [
    "s=\",\".join(s)\n",
    "print(s)"
   ]
  },
  {
   "cell_type": "code",
   "execution_count": 44,
   "metadata": {},
   "outputs": [
    {
     "name": "stdout",
     "output_type": "stream",
     "text": [
      "6\n",
      "enter the keybadulla\n",
      "enter the value20\n",
      "enter the keysana\n",
      "enter the value300\n",
      "enter the keysumanth\n",
      "enter the value500\n",
      "enter the keyhari\n",
      "enter the value200\n",
      "enter the keysiva\n",
      "enter the value100\n",
      "enter the keypavan\n",
      "enter the value50\n",
      "{'badulla': 20, 'sana': 300, 'sumanth': 500, 'hari': 200, 'siva': 100, 'pavan': 50}\n"
     ]
    }
   ],
   "source": [
    "n=int(input())\n",
    "d={}\n",
    "\n",
    "for i in range(n):\n",
    "    a=input(\"enter the key\")\n",
    "    b=int(input(\"enter the value\"))\n",
    "    d[a]=b\n",
    "print(d)\n",
    "\n"
   ]
  },
  {
   "cell_type": "code",
   "execution_count": 45,
   "metadata": {},
   "outputs": [
    {
     "data": {
      "text/plain": [
       "{'badulla': 20,\n",
       " 'sana': 300,\n",
       " 'sumanth': 500,\n",
       " 'hari': 200,\n",
       " 'siva': 100,\n",
       " 'pavan': 50}"
      ]
     },
     "execution_count": 45,
     "metadata": {},
     "output_type": "execute_result"
    }
   ],
   "source": [
    "d"
   ]
  },
  {
   "cell_type": "code",
   "execution_count": 60,
   "metadata": {},
   "outputs": [
    {
     "name": "stdout",
     "output_type": "stream",
     "text": [
      "{20: 'badulla', 300: 'sana', 500: 'sumanth', 200: 'hari', 100: 'siva', 50: 'pavan'}\n",
      "[(500, 'sumanth'), (300, 'sana'), (200, 'hari'), (100, 'siva'), (50, 'pavan'), (20, 'badulla')]\n",
      "1 sumanth\n",
      "2 sana\n",
      "3 hari\n",
      "4 siva\n",
      "5 pavan\n",
      "6 badulla\n"
     ]
    }
   ],
   "source": [
    "\n",
    "f={}\n",
    "for i in d.items():\n",
    "    f[i[1]]=i[0]\n",
    "print(f)\n",
    "a=sorted(f.items(),reverse=True)\n",
    "print(a)\n",
    "c=1\n",
    "for i in a:\n",
    "    \n",
    "    print(c,i[1])\n",
    "    c+=1\n",
    "    \n",
    "    \n",
    "    \n",
    "    "
   ]
  },
  {
   "cell_type": "code",
   "execution_count": 88,
   "metadata": {},
   "outputs": [
    {
     "name": "stdout",
     "output_type": "stream",
     "text": [
      "12\n",
      "6\n",
      "1 2 3 6 "
     ]
    }
   ],
   "source": [
    "a=int(input())\n",
    "b=int(input())\n",
    "for i in range(1,max(a,b)):\n",
    "    if a%i==0 and b%i==0:\n",
    "        print(i,end=\" \")"
   ]
  },
  {
   "cell_type": "code",
   "execution_count": 72,
   "metadata": {},
   "outputs": [
    {
     "name": "stdout",
     "output_type": "stream",
     "text": [
      "2 3\n"
     ]
    }
   ],
   "source": [
    "a,b=list(map(int,input().split()))"
   ]
  },
  {
   "cell_type": "code",
   "execution_count": 74,
   "metadata": {},
   "outputs": [
    {
     "data": {
      "text/plain": [
       "2"
      ]
     },
     "execution_count": 74,
     "metadata": {},
     "output_type": "execute_result"
    }
   ],
   "source": [
    "a"
   ]
  },
  {
   "cell_type": "code",
   "execution_count": 75,
   "metadata": {},
   "outputs": [
    {
     "data": {
      "text/plain": [
       "7"
      ]
     },
     "execution_count": 75,
     "metadata": {},
     "output_type": "execute_result"
    }
   ],
   "source": [
    "c,d =[5,7]\n",
    "d"
   ]
  },
  {
   "cell_type": "code",
   "execution_count": 77,
   "metadata": {},
   "outputs": [
    {
     "ename": "TypeError",
     "evalue": "print() argument after ** must be a mapping, not list",
     "output_type": "error",
     "traceback": [
      "\u001b[1;31m---------------------------------------------------------------------------\u001b[0m",
      "\u001b[1;31mTypeError\u001b[0m                                 Traceback (most recent call last)",
      "\u001b[1;32m<ipython-input-77-7b59eec4fa9c>\u001b[0m in \u001b[0;36m<module>\u001b[1;34m\u001b[0m\n\u001b[0;32m      1\u001b[0m \u001b[0ml\u001b[0m\u001b[1;33m=\u001b[0m\u001b[1;33m[\u001b[0m\u001b[1;36m1\u001b[0m\u001b[1;33m,\u001b[0m\u001b[1;36m2\u001b[0m\u001b[1;33m,\u001b[0m\u001b[1;36m3\u001b[0m\u001b[1;33m,\u001b[0m\u001b[1;36m4\u001b[0m\u001b[1;33m]\u001b[0m\u001b[1;33m\u001b[0m\u001b[1;33m\u001b[0m\u001b[0m\n\u001b[1;32m----> 2\u001b[1;33m \u001b[0mprint\u001b[0m\u001b[1;33m(\u001b[0m\u001b[1;33m**\u001b[0m\u001b[0ml\u001b[0m\u001b[1;33m)\u001b[0m\u001b[1;33m\u001b[0m\u001b[1;33m\u001b[0m\u001b[0m\n\u001b[0m",
      "\u001b[1;31mTypeError\u001b[0m: print() argument after ** must be a mapping, not list"
     ]
    }
   ],
   "source": [
    "l=[1,2,3,4]\n",
    "print()\n"
   ]
  },
  {
   "cell_type": "code",
   "execution_count": 81,
   "metadata": {},
   "outputs": [
    {
     "name": "stdout",
     "output_type": "stream",
     "text": [
      "8 9\n",
      "8 9\n"
     ]
    }
   ],
   "source": [
    "print(*map(int,input().split()))"
   ]
  },
  {
   "cell_type": "code",
   "execution_count": 87,
   "metadata": {},
   "outputs": [
    {
     "data": {
      "text/plain": [
       "2"
      ]
     },
     "execution_count": 87,
     "metadata": {},
     "output_type": "execute_result"
    }
   ],
   "source": [
    "max(1,2)"
   ]
  },
  {
   "cell_type": "code",
   "execution_count": null,
   "metadata": {},
   "outputs": [],
   "source": []
  }
 ],
 "metadata": {
  "kernelspec": {
   "display_name": "Python 3",
   "language": "python",
   "name": "python3"
  },
  "language_info": {
   "codemirror_mode": {
    "name": "ipython",
    "version": 3
   },
   "file_extension": ".py",
   "mimetype": "text/x-python",
   "name": "python",
   "nbconvert_exporter": "python",
   "pygments_lexer": "ipython3",
   "version": "3.7.3"
  }
 },
 "nbformat": 4,
 "nbformat_minor": 2
}
