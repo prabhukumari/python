{
 "cells": [
  {
   "cell_type": "code",
   "execution_count": 3,
   "metadata": {},
   "outputs": [
    {
     "name": "stdout",
     "output_type": "stream",
     "text": [
      "-1\n"
     ]
    }
   ],
   "source": [
    "#function to find the number closest to zero\n",
    "#li -[3,2,-1,-2,-3] --Original list \n",
    "#-Sort the data\n",
    "#-li =[-3,-2,-1,2,3] ---Sorted list \n",
    "#pl =[1,2,2,3,3]---Postive sorted list \n",
    "#pl[0]---> Check this number is postive or negative in the original list \n",
    "#if pl[0] in li: -return pl[0] -else -return -pl[0]\n",
    "li=[-1,-2,2,3]\n",
    "li.sort()\n",
    "pl=[]\n",
    "for i in li:\n",
    "    pl.append(abs(i))\n",
    "pl.sort()\n",
    "if pl[0] in li:\n",
    "    print(pl[0])\n",
    "else:\n",
    "    print(-pl[0])\n"
   ]
  },
  {
   "cell_type": "code",
   "execution_count": 6,
   "metadata": {},
   "outputs": [
    {
     "data": {
      "text/plain": [
       "0"
      ]
     },
     "execution_count": 6,
     "metadata": {},
     "output_type": "execute_result"
    }
   ],
   "source": [
    "l=[]\n",
    "len(l)"
   ]
  },
  {
   "cell_type": "code",
   "execution_count": 12,
   "metadata": {},
   "outputs": [
    {
     "data": {
      "text/plain": [
       "-1"
      ]
     },
     "execution_count": 12,
     "metadata": {},
     "output_type": "execute_result"
    }
   ],
   "source": [
    "#program to find the largest number which is less than or equal to c \n",
    "#and leaves a remainder b when divided by a,else return -1\n",
    "def number(a,b,c):\n",
    "    l=[]\n",
    "    for i in range(1,c+1):\n",
    "        if i%a==b:\n",
    "            l.append(i)\n",
    "    \n",
    "    if len(l)==0:\n",
    "        return -1\n",
    "    else:\n",
    "        print(max(l))\n",
    "    \n",
    "number(1,2,4)\n",
    "#def call(a,b,c)\n",
    "#for i in range(c,a-1,-1):\n",
    "    #if i%a==b:\n",
    "        #return i\n",
    "    #return -1\n",
    "\n",
    "        "
   ]
  },
  {
   "cell_type": "code",
   "execution_count": 50,
   "metadata": {},
   "outputs": [
    {
     "name": "stdout",
     "output_type": "stream",
     "text": [
      "no\n"
     ]
    }
   ],
   "source": [
    "s1=\"kkkkkeeeeepppppzzzzz\"  \n",
    "s2=\"ssssshhhhhkkkkklllll\"\n",
    "c=0\n",
    "if len(s1)==len(s2):\n",
    "    for i in s1:\n",
    "\n",
    "        if i in s2:\n",
    "            c+=1\n",
    "        \n",
    "    if c==len(s1):\n",
    "        print(\"yes\")\n",
    "    else:\n",
    "        print(\"no\")\n",
    "else:\n",
    "    print(\"NO\")"
   ]
  },
  {
   "cell_type": "code",
   "execution_count": 38,
   "metadata": {},
   "outputs": [
    {
     "name": "stdout",
     "output_type": "stream",
     "text": [
      "3\n",
      "asd asd\n",
      "asd asd\n",
      "asd cfg\n",
      "asd cfg\n",
      "gfhkjk\n"
     ]
    },
    {
     "ename": "IndexError",
     "evalue": "list index out of range",
     "output_type": "error",
     "traceback": [
      "\u001b[1;31m---------------------------------------------------------------------------\u001b[0m",
      "\u001b[1;31mIndexError\u001b[0m                                Traceback (most recent call last)",
      "\u001b[1;32m<ipython-input-38-2c72d198256c>\u001b[0m in \u001b[0;36m<module>\u001b[1;34m\u001b[0m\n\u001b[0;32m      4\u001b[0m     \u001b[0ms\u001b[0m\u001b[1;33m=\u001b[0m\u001b[0ms\u001b[0m\u001b[1;33m.\u001b[0m\u001b[0msplit\u001b[0m\u001b[1;33m(\u001b[0m\u001b[1;33m)\u001b[0m\u001b[1;33m\u001b[0m\u001b[1;33m\u001b[0m\u001b[0m\n\u001b[0;32m      5\u001b[0m     \u001b[0ms1\u001b[0m\u001b[1;33m=\u001b[0m\u001b[0ms\u001b[0m\u001b[1;33m[\u001b[0m\u001b[1;36m0\u001b[0m\u001b[1;33m]\u001b[0m\u001b[1;33m\u001b[0m\u001b[1;33m\u001b[0m\u001b[0m\n\u001b[1;32m----> 6\u001b[1;33m     \u001b[0ms2\u001b[0m\u001b[1;33m=\u001b[0m\u001b[0ms\u001b[0m\u001b[1;33m[\u001b[0m\u001b[1;36m1\u001b[0m\u001b[1;33m]\u001b[0m\u001b[1;33m\u001b[0m\u001b[1;33m\u001b[0m\u001b[0m\n\u001b[0m\u001b[0;32m      7\u001b[0m     \u001b[0mprint\u001b[0m\u001b[1;33m(\u001b[0m\u001b[0ms1\u001b[0m\u001b[1;33m,\u001b[0m\u001b[0ms2\u001b[0m\u001b[1;33m)\u001b[0m\u001b[1;33m\u001b[0m\u001b[1;33m\u001b[0m\u001b[0m\n",
      "\u001b[1;31mIndexError\u001b[0m: list index out of range"
     ]
    }
   ],
   "source": [
    "t=int(input())\n",
    "for i in range(0,t+1):\n",
    "    s=input()\n",
    "    s=s.split()\n",
    "    s1=s[0]\n",
    "    s2=s[1]\n",
    "    print(s1,s2)"
   ]
  },
  {
   "cell_type": "code",
   "execution_count": null,
   "metadata": {},
   "outputs": [],
   "source": [
    "def twostrings(s1,s2):\n",
    "    \n",
    "    c=0\n",
    "    if len(s1)==len(s2):\n",
    "        for i in s1:\n",
    "    \n",
    "            if i in s2:\n",
    "                c+=1\n",
    "            \n",
    "        if c==len(s1):\n",
    "            print(\"YES\")\n",
    "        \n",
    "    else:\n",
    "        print(\"NO\")\n",
    "t=input()\n",
    "t=int(t)\n",
    "for i in range(0,t+1):\n",
    "    s=input().split()\n",
    "    s1=s[0]\n",
    "    s2=s[1]\n",
    "    twostrings(s1,s2)"
   ]
  },
  {
   "cell_type": "code",
   "execution_count": 40,
   "metadata": {},
   "outputs": [],
   "source": [
    "twostrings('abhi','hibb')"
   ]
  },
  {
   "cell_type": "code",
   "execution_count": 48,
   "metadata": {},
   "outputs": [
    {
     "name": "stdout",
     "output_type": "stream",
     "text": [
      "[1, 6, 8, 734]\n"
     ]
    }
   ],
   "source": [
    "s1=[1,734,6,8]\n",
    "\n",
    "\n",
    "s1=sorted(s1)\n",
    "print(s1)\n",
    "\n",
    "\n",
    "   \n",
    "            "
   ]
  },
  {
   "cell_type": "code",
   "execution_count": null,
   "metadata": {},
   "outputs": [],
   "source": [
    "\"\"\"You are given an integer N. You need to print the series of all prime numbers till N.\n",
    "\n",
    "Input Format\n",
    "\n",
    "The first and only line of the input contains a single integer N denoting the number till where you need to find the series of prime number.\n",
    "\n",
    "Output Format\n",
    "\n",
    "Print the desired output in single line separated by spaces.\"\"\"\n",
    "a=input()\n",
    "b=int(a)\n",
    "def primegen(t):\n",
    "    for c in range(1,b+1):\n",
    "        flag=0\n",
    "        for i in range(1,c+1):\n",
    "            if c%i==0:\n",
    "                flag+=1\n",
    "        if flag==2:\n",
    "            print(i,end=\" \")\n",
    "primegen(b)\n",
    "        "
   ]
  },
  {
   "cell_type": "code",
   "execution_count": null,
   "metadata": {},
   "outputs": [],
   "source": [
    "'''You have been given a String S. You need to find and print whether this string is a palindrome or not. If yes, print \"YES\" (without quotes), else print \"NO\" (without quotes).\n",
    "\n",
    "Input Format\n",
    "The first and only line of input contains the String S. The String shall consist of lowercase English alphabets only.\n",
    "\n",
    "Output Format\n",
    "Print the required answer on a single line.'''\n",
    "def palindrome(a):\n",
    "    if a[::-1]==a:\n",
    "        print(\"YES\")\n",
    "    else:\n",
    "        print(\"NO\")\n",
    "a=input()\n",
    "palindrome(a)"
   ]
  },
  {
   "cell_type": "code",
   "execution_count": null,
   "metadata": {},
   "outputs": [],
   "source": [
    "'''You have been given 3 integers - l, r and k. Find how many numbers between l and r (both inclusive) are divisible by k. You do not need to print these numbers, you just have to find their count.\n",
    "\n",
    "Input Format\n",
    "The first and only line of input contains 3 space separated integers l, r and k.\n",
    "\n",
    "Output Format\n",
    "Print the required answer on a single line.'''\n",
    "s=input()\n",
    "a=s.split()\n",
    "l=int(a[0])\n",
    "r=int(a[1])\n",
    "k=int(a[2])\n",
    "\n",
    "def factors(l,r,k):\n",
    "    \n",
    "    count=0\n",
    "    for i in range(l,r+1):\n",
    "        if i%k==0:\n",
    "            count+=1\n",
    "    print(count)\n",
    "factors(l,r,k)"
   ]
  },
  {
   "cell_type": "code",
   "execution_count": null,
   "metadata": {},
   "outputs": [],
   "source": [
    "'''You have been given a positive integer N. You need to find and print the Factorial of this number. The Factorial of a positive integer N refers to the product of all number in the range from 1 to N. You can read more about the factorial of a number here.\n",
    "\n",
    "Input Format:\n",
    "The first and only line of the input contains a single integer N denoting the number whose factorial you need to find.\n",
    "\n",
    "Output Format\n",
    "Output a single line denoting the factorial of the number N.'''\n",
    "a=input()\n",
    "b=int(a)\n",
    "def factorial(b):\n",
    "    for i in range(1,b):\n",
    "        b=b*i\n",
    "    print(b)\n",
    "factorial(b)"
   ]
  },
  {
   "cell_type": "code",
   "execution_count": null,
   "metadata": {},
   "outputs": [],
   "source": [
    "'''You have been given a String S consisting of uppercase and lowercase English alphabets. You need to change the case of each alphabet in this String. That is, all the uppercase letters should be converted to lowercase and all the lowercase letters should be converted to uppercase. You need to then print the resultant String to output.\n",
    "\n",
    "Input Format\n",
    "The first and only line of input contains the String S\n",
    "\n",
    "Output Format\n",
    "Print the resultant String on a single line.'''\n",
    "a=input()\n",
    "print(a.swapcase())"
   ]
  },
  {
   "cell_type": "code",
   "execution_count": null,
   "metadata": {},
   "outputs": [],
   "source": [
    "'''Rahul is a very busy persion he dont wan't to waste his time . He keeps account of duration of each and every work. Now he don't even get time to calculate duration of works, So your job is to count the durations for each work and give it to rahul.\n",
    "\n",
    " \n",
    "\n",
    "Input:\n",
    "\n",
    "First line will be given by N number of works\n",
    "Next N line will be given SH,SM,EH and EM  each separated by space(SH=starting hr, SM=starting min, EH=ending hr, EM=ending min)\n",
    "Output:\n",
    "\n",
    "N lines with duration HH MM(hours and minutes separated by space)'''\n",
    "def duration(sh,sm,eh,em):\n",
    "    a=(60*60*sh)+(sm*60)\n",
    "    b=(60*60*eh)+(em*60)\n",
    "    sec=b-a\n",
    "    m=sec//60\n",
    "    m1=m%60\n",
    "    h=m//60\n",
    "    print(h,m1)\n",
    "\n",
    "n=input()\n",
    "n=int(n)\n",
    "for i in range(n):\n",
    "    s=input().split()\n",
    "    print(s)\n",
    "    sh=int(s[0])\n",
    "    sm=int(s[1])\n",
    "    eh=int(s[2])\n",
    "    em=int(s[3])\n",
    "\n",
    "    duration(sh,sm,eh,em)"
   ]
  },
  {
   "cell_type": "code",
   "execution_count": null,
   "metadata": {},
   "outputs": [],
   "source": [
    "'''Consider All lowercase Alphabets of the English language. Here we consider each alphabet from a to z to have a certain weight. The weight of the alphabet a is considered to be 1, b to be 2, c to be 3 and so on until z has a weight of 26. In short, the weight of the alphabet a is 1, and the weight of all other alphabets is the weight of its previous alphabet + 1.\n",
    "\n",
    "Now, you have been given a String S consisting of lowercase English characters. You need to find the summation of weight of each character in this String.\n",
    "\n",
    "For example, Consider the String aba\n",
    "\n",
    "Here, the first character a has a weight of 1, the second character b has 2 and the third character a again has a weight of 1. So the summation here is equal to : 1+2+1=4\n",
    "\n",
    "Input Format:\n",
    "\n",
    "The first and only line of input contains the String S.\n",
    "\n",
    "Output Format:\n",
    "\n",
    "Print the required answer on a single line'''\n",
    "def charsum(n):\n",
    "    sum=0\n",
    "    for i in n:\n",
    "        f=ord(i)-96\n",
    "        sum=sum+f\n",
    "    print(sum)\n",
    "\n",
    "n=input()\n",
    "\n",
    "charsum(n) "
   ]
  },
  {
   "cell_type": "code",
   "execution_count": null,
   "metadata": {},
   "outputs": [],
   "source": [
    "'''Given two strings of equal length, you have to tell whether they both strings are identical.\n",
    "\n",
    "Two strings S1 and S2 are said to be identical, if any of the permutation of string S1 is equal to the string S2. See Sample explanation for more details.\n",
    "\n",
    "Input :\n",
    "\n",
    "First line, contains an intger 'T' denoting no. of test cases.\n",
    "Each test consists of a single line, containing two space separated strings S1 and S2 of equal length.\n",
    "Output:\n",
    "\n",
    "For each test case, if any of the permutation of string S1 is equal to the string S2 print YES else print NO.'''\n",
    "a=input().split()\n",
    "e=int(a[0])\n",
    "f=int(a[1])\n",
    "aa=[]\n",
    "bb=input().split()\n",
    "for i in bb:\n",
    "    aa.append(int(i))\n",
    "    \n",
    "for i in range(f):\n",
    "    u=input().split()\n",
    "   \n",
    "    c=int(u[0])\n",
    "    d=int(u[1])\n",
    "    s=0\n",
    "    count=0\n",
    "    w=aa[c-1:d+1]\n",
    "    for i in w:\n",
    "        s=s+i\n",
    "        count=count+1\n",
    "        avg=s//count\n",
    "    print(avg)"
   ]
  },
  {
   "cell_type": "code",
   "execution_count": null,
   "metadata": {},
   "outputs": [],
   "source": []
  }
 ],
 "metadata": {
  "kernelspec": {
   "display_name": "Python 3",
   "language": "python",
   "name": "python3"
  },
  "language_info": {
   "codemirror_mode": {
    "name": "ipython",
    "version": 3
   },
   "file_extension": ".py",
   "mimetype": "text/x-python",
   "name": "python",
   "nbconvert_exporter": "python",
   "pygments_lexer": "ipython3",
   "version": "3.7.3"
  }
 },
 "nbformat": 4,
 "nbformat_minor": 2
}
