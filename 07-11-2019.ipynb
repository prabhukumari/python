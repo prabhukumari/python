{
 "cells": [
  {
   "cell_type": "raw",
   "metadata": {},
   "source": [
    "Special numbers-sum of the any two distnict single digit  odd prime number with each of the prime number having a positive power\n",
    "\n",
    "\n",
    "4--0\n",
    "5--0\n",
    "6--0\n",
    "7--0\n",
    "8---1\n",
    "--------------------------\n",
    "8--3^1+5^1----1\n",
    "\n",
    "10---7+3---10\n",
    "\n",
    "12---5+7\n",
    "\n",
    "14---3^2+5^1\n",
    "\n",
    "16---3^2+7^1\n",
    "\n",
    "28---5^2+3\n",
    "\n",
    "32---5^2+7^1\n",
    "\n",
    "34---3^2+5^2\n",
    "------------------------------"
   ]
  },
  {
   "cell_type": "code",
   "execution_count": 34,
   "metadata": {},
   "outputs": [
    {
     "data": {
      "text/plain": [
       "'t=int(input())\\nfor i in range(t):\\n    \\n    n=int(input())\\n    dc=int(input())\\n    ic=int(input())\\n    if nextspecialNumber(n)*ic>previousspecialNumber(n)*dc:\\n        print(nextspecialNumber(n)*ic)\\n    else:\\n         print(previousspecialNumber(n)*dc)'"
      ]
     },
     "execution_count": 34,
     "metadata": {},
     "output_type": "execute_result"
    }
   ],
   "source": [
    "def specialNumberCheck(n):\n",
    "    list3=[]\n",
    "    list5=[]\n",
    "    list7=[]\n",
    "    fp=10\n",
    "    for i in range(1,fp+1):\n",
    "        list3.append(3**i)\n",
    "        list5.append(5**i)\n",
    "        list7.append(7**i)\n",
    "    for i in range(10):\n",
    "        for j in range(10):\n",
    "            if list3[i]+list5[j]==n or list3[i]+list7[j]==n:\n",
    "                return True\n",
    "    for i in range(10):\n",
    "        for j in range(10):\n",
    "            if list5[i]+list7[j]==n:\n",
    "                return True\n",
    "    return False\n",
    "#specialNumberCheck(28)\n",
    "def nextspecialNumber(n):\n",
    "    c=0\n",
    "    while(1):\n",
    "        if specialNumberCheck(n)==False:\n",
    "            c=c+1\n",
    "            n=n+1\n",
    "        else:\n",
    "            break\n",
    "    return c\n",
    "nextspecialNumber(4)\n",
    "def previousspecialNumber(n):\n",
    "    c=0\n",
    "    while(n>=8):\n",
    "        if specialNumberCheck(n)==False:\n",
    "            c=c+1\n",
    "            n=n-1\n",
    "        elif specialNumberCheck(n)==True:\n",
    "            break\n",
    "            \n",
    "           \n",
    "    return c\n",
    "            \n",
    "        \n",
    "#previousspecialNumber(4):\n",
    " \n",
    "'''t=int(input())\n",
    "for i in range(t):\n",
    "    \n",
    "    n=int(input())\n",
    "    dc=int(input())\n",
    "    ic=int(input())\n",
    "    if nextspecialNumber(n)*ic>previousspecialNumber(n)*dc:\n",
    "        print(nextspecialNumber(n)*ic)\n",
    "    else:\n",
    "         print(previousspecialNumber(n)*dc)'''\n",
    "    \n",
    "\n",
    "            \n",
    "            \n",
    "            \n",
    "            \n",
    "            "
   ]
  },
  {
   "cell_type": "code",
   "execution_count": 28,
   "metadata": {},
   "outputs": [
    {
     "data": {
      "text/plain": [
       "0"
      ]
     },
     "execution_count": 28,
     "metadata": {},
     "output_type": "execute_result"
    }
   ],
   "source": [
    "\n",
    "           \n"
   ]
  },
  {
   "cell_type": "code",
   "execution_count": null,
   "metadata": {},
   "outputs": [],
   "source": []
  }
 ],
 "metadata": {
  "kernelspec": {
   "display_name": "Python 3",
   "language": "python",
   "name": "python3"
  },
  "language_info": {
   "codemirror_mode": {
    "name": "ipython",
    "version": 3
   },
   "file_extension": ".py",
   "mimetype": "text/x-python",
   "name": "python",
   "nbconvert_exporter": "python",
   "pygments_lexer": "ipython3",
   "version": "3.7.3"
  }
 },
 "nbformat": 4,
 "nbformat_minor": 2
}
