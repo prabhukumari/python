{
 "cells": [
  {
   "cell_type": "code",
   "execution_count": null,
   "metadata": {},
   "outputs": [],
   "source": [
    "n=list(input())\n",
    "l=1\n",
    "r=1\n",
    "u=1\n",
    "d=1\n",
    "x=0\n",
    "y=0\n",
    "p=0\n",
    "q=0\n",
    "for i in n:\n",
    "    if i=='L':\n",
    "        \n",
    "        x=x-l\n",
    "       \n",
    "    elif i=='R':\n",
    "       \n",
    "        p=p+r\n",
    "        \n",
    "    elif i=='U':\n",
    "        \n",
    "        q=q+u\n",
    "        \n",
    "    elif i=='D':\n",
    "       \n",
    "        y=y-d\n",
    "        \n",
    "c=x+p\n",
    "d=q+y\n",
    "print(c,d,end=\" \")\n"
   ]
  },
  {
   "cell_type": "code",
   "execution_count": null,
   "metadata": {},
   "outputs": [],
   "source": [
    "while (1):\n",
    "    \n",
    "    n=int(input())\n",
    "    if n==42:\n",
    "        break\n",
    "    print(n)"
   ]
  },
  {
   "cell_type": "code",
   "execution_count": null,
   "metadata": {},
   "outputs": [],
   "source": [
    "n=int(input())\n",
    "for i in range(n):\n",
    "    print(\"*   *\")\n",
    "    print(\"*   *\")\n",
    "    print('*'*5)\n",
    "print(\"*   *\")\n",
    "print(\"*   *\")\n",
    "    "
   ]
  },
  {
   "cell_type": "markdown",
   "metadata": {},
   "source": [
    "## Regular Expressions\n",
    "[0-9]----->Any digit <br>\n",
    "\n",
    "[a-z]------>any lower case alphabet<br>\n",
    "\n",
    "[2468]----->All single digit multiples of 2\n",
    "\n",
    "^[0-9]{1}$---->Only single digit numbers <br>\n",
    "\n",
    "^[0-9]{3}$---->only 3 digit numbers  <br>\n",
    "\n",
    "^[1-9][0-9]*0$------>multiples of 10 num  <br>\n",
    "\n",
    "^[1-9][0-9]*[05]$------All multiples of 5 except 5<br>\n",
    "\n",
    "^[0-9]{10}$----all 10 digit numbers <br>\n",
    "\n",
    "phone number(start with 9,8,7,6 and it should have 10 digits----^[9876][0-9]{9}$\n",
    "\n",
    "^[9876][0-9]{9}$|^[0][6-9][0-9]{9}$ for 11 digit no also\n",
    "\n",
    "^[9876][0-9]{9}$|^[0][6-9][0-9]{9}$|^[+][9][1][6-9][0-9]{9}$   also for +91\n",
    "\n",
    "### Email validation(username@domain.extension)\n",
    "username--^[0-9a-z][0-9a-z_.]{4,13}[0-9a-z]$\n",
    "\n",
    "--length of username: [6,15]\n",
    "\n",
    "--no special character other than _ .\n",
    "\n",
    "--should not begin and with _ .\n",
    "\n",
    "--character set:all digits and alphabets\n",
    "\n",
    "domain --^[0-9a-z]{3,18}$\n",
    "\n",
    "--lenght of the domain:[3,18]\n",
    "\n",
    "--character set:all digits and alphabets\n",
    "\n",
    "---no special characters\n",
    "\n",
    "extension----->^[a-z]{2,4}$\n",
    "\n",
    "length of extension:[2,4]\n",
    "\n",
    "---length of extension\n",
    "\n",
    "---no special characters\n",
    "\n",
    "---character set:alphabet\n",
    "\n",
    "\n",
    "email id regular expressions:^[0-9a-z][0-9a-z_.]{4,13}[0-9a-z][@][0-9a-z]{3,18}[.][a-z]{2,4}$\n",
    "\n",
    "^[a].*[z]$ Any string of any length that starts with a and end with z\n"
   ]
  },
  {
   "cell_type": "code",
   "execution_count": 1,
   "metadata": {},
   "outputs": [],
   "source": [
    "#function to validate a phone number\n",
    "import re\n",
    "def phnovalidator(no):\n",
    "    pattern='[9876][0-9]{9}$|^[0][6-9][0-9]{9}$|^[+][9][1][6-9][0-9]{9}$'\n",
    "    if re.match(pattern,str(no)):\n",
    "        return True\n",
    "        #print(\"valid number\")\n",
    "    else:\n",
    "        return False\n",
    "        #print(\"invalid number\")\n",
    "    return\n",
    "\n",
    "def emailval(email):\n",
    "    pattern='^[0-9a-z][0-9a-z_.]{4,13}[0-9a-z][@][0-9a-z]{3,18}[.][a-z]{2,4}$'\n",
    "    if re.match(pattern,email):\n",
    "        #print(\"valid\")\n",
    "        return True\n",
    "    else:\n",
    "        #print(\"invalid\")\n",
    "        return False\n",
    "\n",
    "\n",
    "\n"
   ]
  },
  {
   "cell_type": "code",
   "execution_count": 54,
   "metadata": {},
   "outputs": [],
   "source": [
    "#Contacts Application using dictionaries\n",
    "#---Add contact\n",
    "#Search Contact\n",
    "#---Modify contact\n",
    "#---Remove contcat\n",
    "#---list all contacts\n",
    "contacts={\"name1\":[9963674059,'name1@domain.ext']}\n",
    "def addContact(name,phone,mail):\n",
    "    #verify that the contact doesnot already exist\n",
    "    if name in contacts:\n",
    "          print(\"already exists\")\n",
    "        \n",
    "    else:    \n",
    "        if not phnovalidator(phone):  \n",
    "\n",
    "            print(\"phone number is invalid\" )\n",
    "        if not emailval(mail):\n",
    "             print(\"email is invalid\")\n",
    "        newcontact=[]\n",
    "        newcontact.append(mail)\n",
    "        newcontact.append(phone)\n",
    "        contacts[name]=newcontact\n",
    "       )\n",
    "                \n",
    "    \n",
    "        return\n",
    "addContact(\"prabhukumari\",9947426208,'prabhukumari@gmail.com')\n"
   ]
  },
  {
   "cell_type": "code",
   "execution_count": 55,
   "metadata": {},
   "outputs": [],
   "source": [
    "addContact(\"sandhya\",9948426208,'sandhya4059@gmail.com')"
   ]
  },
  {
   "cell_type": "code",
   "execution_count": 47,
   "metadata": {},
   "outputs": [
    {
     "name": "stdout",
     "output_type": "stream",
     "text": [
      "sandhya\n",
      "Phone: sandhya4059@gmail.com\n",
      "Email: 9948426208\n"
     ]
    }
   ],
   "source": [
    "def searchContacts(name):\n",
    "    \n",
    "    if name in a:\n",
    "        print(name)\n",
    "        print(\"Phone:\",contacts[name][0])\n",
    "        print(\"Email:\",contacts[name][1])\n",
    "    else:\n",
    "        print(\"%s does not exits\" % name)\n",
    "searchContacts(\"sandhya\")"
   ]
  },
  {
   "cell_type": "code",
   "execution_count": 4,
   "metadata": {},
   "outputs": [
    {
     "name": "stdout",
     "output_type": "stream",
     "text": [
      "{'name1': [9963674059, 'name1@domain.ext'], 'prabhu': ['prabhu4059@gmail.com', 7799098284], 'fsfeg': [32543756867, 'prabhupinisetti@gmail.com']} contacts added\n"
     ]
    }
   ],
   "source": [
    "def importContacts(newcontacts):\n",
    "    contacts.update(newcontacts)\n",
    "    print(contacts,\"contacts added\")\n",
    "    return\n",
    "newcontacts={\"fsfeg\":[32543756867,\"prabhupinisetti@gmail.com\"]}\n",
    "importContacts(newcontacts)"
   ]
  },
  {
   "cell_type": "code",
   "execution_count": 5,
   "metadata": {},
   "outputs": [
    {
     "name": "stdout",
     "output_type": "stream",
     "text": [
      "name1 \n",
      " Phone: 9963674059 \n",
      " Email: name1@domain.ext\n",
      "prabhu \n",
      " Phone: prabhu4059@gmail.com \n",
      " Email: 7799098284\n",
      "fsfeg \n",
      " Phone: 32543756867 \n",
      " Email: prabhupinisetti@gmail.com\n"
     ]
    }
   ],
   "source": [
    "def listallcontacts():\n",
    "    for contact, info in contacts.items():\n",
    "        print(contact,\"\\n\",\"Phone:\",info[0],\"\\n\",\"Email:\",info[1])\n",
    "listallcontacts()"
   ]
  },
  {
   "cell_type": "markdown",
   "metadata": {},
   "source": [
    "### File Handling in Python\n",
    "File -Document containing information residing \n",
    "Types-Text,PDF,CSV etc\n",
    "\n",
    "File I/O-chanelling I/0 data to files<br>\n",
    "Default I/O channels-keyboard/screen<br>\n",
    "Change I/O channel to files for reading and writing \n",
    "\n",
    "\n",
    "Read a file--open\n",
    "write to a file--Output to a file\n",
    "\n",
    "Read/Write file-open(filename,mode)\n"
   ]
  },
  {
   "cell_type": "code",
   "execution_count": 7,
   "metadata": {},
   "outputs": [
    {
     "ename": "NameError",
     "evalue": "name 'data' is not defined",
     "output_type": "error",
     "traceback": [
      "\u001b[1;31m---------------------------------------------------------------------------\u001b[0m",
      "\u001b[1;31mNameError\u001b[0m                                 Traceback (most recent call last)",
      "\u001b[1;32m<ipython-input-7-c14b7f4f721c>\u001b[0m in \u001b[0;36m<module>\u001b[1;34m\u001b[0m\n\u001b[0;32m      3\u001b[0m \u001b[1;33m\u001b[0m\u001b[0m\n\u001b[0;32m      4\u001b[0m     \u001b[1;32mreturn\u001b[0m \u001b[0mfiledata\u001b[0m\u001b[1;33m\u001b[0m\u001b[1;33m\u001b[0m\u001b[0m\n\u001b[1;32m----> 5\u001b[1;33m \u001b[0mreadFile\u001b[0m\u001b[1;33m(\u001b[0m\u001b[0mdata\u001b[0m\u001b[1;33m.\u001b[0m\u001b[0mtxt\u001b[0m\u001b[1;33m)\u001b[0m\u001b[1;33m\u001b[0m\u001b[1;33m\u001b[0m\u001b[0m\n\u001b[0m",
      "\u001b[1;31mNameError\u001b[0m: name 'data' is not defined"
     ]
    }
   ],
   "source": [
    "# func to read file\n",
    "def readFile(filename):\n",
    "    \n",
    "    return filedata\n",
    "readFile(data.txt)"
   ]
  },
  {
   "cell_type": "code",
   "execution_count": 8,
   "metadata": {},
   "outputs": [
    {
     "name": "stdout",
     "output_type": "stream",
     "text": [
      "newdata\n",
      " Line2\n",
      "Line3\n"
     ]
    }
   ],
   "source": [
    "def readfile(filename):\n",
    "    f=open(filename,'r')\n",
    "    filedata=f.read()\n",
    "    f.close()\n",
    "    return filedata\n",
    "\n",
    "filename='Datafiles/data.txt'\n",
    "readfile(filename)\n",
    "for line in readfile(filename).split('\\n'):\n",
    "    print(line)"
   ]
  },
  {
   "cell_type": "code",
   "execution_count": 9,
   "metadata": {},
   "outputs": [
    {
     "name": "stdout",
     "output_type": "stream",
     "text": [
      "newdata\n",
      "\n",
      " Line2\n",
      "\n",
      "Line3\n"
     ]
    }
   ],
   "source": [
    "def printfiledatalines(filename):\n",
    "    f=open(filename,'r')\n",
    "    for line in f:\n",
    "        print(line)\n",
    "    return\n",
    "printfiledatalines(filename)"
   ]
  },
  {
   "cell_type": "code",
   "execution_count": 10,
   "metadata": {},
   "outputs": [
    {
     "name": "stdout",
     "output_type": "stream",
     "text": [
      "newdata\n",
      " Line2\n",
      "Line3"
     ]
    }
   ],
   "source": [
    "def printfiledatalines(filename):\n",
    "    f=open(filename,'r')\n",
    "    for line in f:\n",
    "        print(line,end=\"\")\n",
    "    return\n",
    "printfiledatalines(filename)"
   ]
  },
  {
   "cell_type": "code",
   "execution_count": 11,
   "metadata": {},
   "outputs": [
    {
     "name": "stdout",
     "output_type": "stream",
     "text": [
      "newdata\n",
      "\n",
      " Line2\n",
      "\n",
      "Line3\n"
     ]
    }
   ],
   "source": [
    "def printfiledatalines(filename):\n",
    "    with open(filename,'r') as f:\n",
    "        for line in f:\n",
    "            print(line)\n",
    "    return\n",
    "printfiledatalines(filename)"
   ]
  },
  {
   "cell_type": "code",
   "execution_count": 12,
   "metadata": {},
   "outputs": [],
   "source": [
    "def writeintofile(filename,filedata):\n",
    "    with open(filename,'w') as f:\n",
    "        f.write(filedata)\n",
    "    return\n",
    "filename='Datafiles/data.txt'\n",
    "writeintofile(filename,\"newdata\\n\")"
   ]
  },
  {
   "cell_type": "code",
   "execution_count": 13,
   "metadata": {},
   "outputs": [],
   "source": [
    "def appenddatafile(filename,filedata):\n",
    "    with open(filename,'a') as f:\n",
    "        f.write(filedata)\n",
    "    return\n",
    "filedata=\" Line2\\nLine3\"\n",
    "appenddatafile(filename,filedata)"
   ]
  },
  {
   "cell_type": "code",
   "execution_count": 24,
   "metadata": {},
   "outputs": [
    {
     "data": {
      "text/plain": [
       "{'name1': [9963674059, 'name1@domain.ext'],\n",
       " 'prabhu': ['prabhu4059@gmail.com', 7799098284],\n",
       " 'fsfeg': [32543756867, 'prabhupinisetti@gmail.com']}"
      ]
     },
     "execution_count": 24,
     "metadata": {},
     "output_type": "execute_result"
    }
   ],
   "source": [
    "contacts\n"
   ]
  },
  {
   "cell_type": "code",
   "execution_count": 38,
   "metadata": {},
   "outputs": [],
   "source": [
    "with open('Datafiles/contacts.txt','w') as f:\n",
    "    for i,j in contacts.items():\n",
    "        f.write('%s:%s\\n' % (i, j))\n",
    "\n",
    "    \n",
    "\n",
    "\n"
   ]
  },
  {
   "cell_type": "code",
   "execution_count": 49,
   "metadata": {},
   "outputs": [
    {
     "data": {
      "text/plain": [
       "{'name1': [9963674059, 'name1@domain.ext'],\n",
       " 'prabhukumari': ['prabhukumari@gmail.com', 9947426208],\n",
       " 'prabhu': ['prabhukumari@gmail.com', 7799098284],\n",
       " 'sandhya': ['sandhya4059@gmail.com', 9948426208]}"
      ]
     },
     "execution_count": 49,
     "metadata": {},
     "output_type": "execute_result"
    }
   ],
   "source": [
    "contacts"
   ]
  },
  {
   "cell_type": "code",
   "execution_count": null,
   "metadata": {},
   "outputs": [],
   "source": []
  }
 ],
 "metadata": {
  "kernelspec": {
   "display_name": "Python 3",
   "language": "python",
   "name": "python3"
  },
  "language_info": {
   "codemirror_mode": {
    "name": "ipython",
    "version": 3
   },
   "file_extension": ".py",
   "mimetype": "text/x-python",
   "name": "python",
   "nbconvert_exporter": "python",
   "pygments_lexer": "ipython3",
   "version": "3.7.3"
  }
 },
 "nbformat": 4,
 "nbformat_minor": 2
}
