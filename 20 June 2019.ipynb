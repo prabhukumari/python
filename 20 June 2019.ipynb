{
 "cells": [
  {
   "cell_type": "code",
   "execution_count": null,
   "metadata": {},
   "outputs": [],
   "source": [
    "n=list(input())\n",
    "l=1\n",
    "r=1\n",
    "u=1\n",
    "d=-1\n",
    "x=0\n",
    "y=0\n",
    "for i in n:\n",
    "    if i=='L':\n",
    "        x=x-l\n",
    "    elif i=='R':\n",
    "        x=x+r\n",
    "    elif i=='U':\n",
    "        y=y+u\n",
    "    elif i=='D':\n",
    "        y=y-a\n",
    "print(x,y)\n"
   ]
  },
  {
   "cell_type": "code",
   "execution_count": null,
   "metadata": {},
   "outputs": [],
   "source": []
  }
 ],
 "metadata": {
  "kernelspec": {
   "display_name": "Python 3",
   "language": "python",
   "name": "python3"
  },
  "language_info": {
   "codemirror_mode": {
    "name": "ipython",
    "version": 3
   },
   "file_extension": ".py",
   "mimetype": "text/x-python",
   "name": "python",
   "nbconvert_exporter": "python",
   "pygments_lexer": "ipython3",
   "version": "3.7.3"
  }
 },
 "nbformat": 4,
 "nbformat_minor": 2
}
