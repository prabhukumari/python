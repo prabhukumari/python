{
 "cells": [
  {
   "cell_type": "code",
   "execution_count": 8,
   "metadata": {},
   "outputs": [
    {
     "name": "stdout",
     "output_type": "stream",
     "text": [
      "new data\n",
      "line2\n",
      "line3\n",
      "line4\n",
      "\n"
     ]
    }
   ],
   "source": [
    "#read a file ----file shouls exist(read mode)\n",
    "#write to a file--existing append mode or new file\n",
    "\n",
    "def readfile(filepath):\n",
    "    with open(filepath,'r') as f:\n",
    "        filedata=f.read()\n",
    "        print(filedata)\n",
    "    return\n",
    "filepath='Datafiles/22june.txt'\n",
    "readfile(filepath)\n",
    "    "
   ]
  },
  {
   "cell_type": "code",
   "execution_count": 52,
   "metadata": {},
   "outputs": [
    {
     "name": "stdout",
     "output_type": "stream",
     "text": [
      "19\n"
     ]
    }
   ],
   "source": [
    "#char count\n",
    "def charcount(filepath):\n",
    "    c=0\n",
    "    with open(filepath,'r') as f:\n",
    "        \n",
    "        for line in f:\n",
    "            for line1 in line:\n",
    "                if line1.isalpha():\n",
    "                    c+=1\n",
    "        print(c)\n",
    "charcount('Datafiles/22june.txt')    "
   ]
  },
  {
   "cell_type": "code",
   "execution_count": 55,
   "metadata": {},
   "outputs": [
    {
     "name": "stdout",
     "output_type": "stream",
     "text": [
      "new data\n",
      "line2\n",
      "line3\n",
      "line4\n",
      "5\n"
     ]
    }
   ],
   "source": [
    "#word count\n",
    "def wordcount(filepath):\n",
    "    c=0\n",
    "    with open(filepath,'r') as f:\n",
    "        \n",
    "        for line in f:\n",
    "            print(line,end='')\n",
    "            for i in line.split():\n",
    "               \n",
    "                c+=1\n",
    "        print(c)\n",
    "        \n",
    "charcount('Datafiles/22june.txt')  "
   ]
  },
  {
   "cell_type": "code",
   "execution_count": null,
   "metadata": {},
   "outputs": [],
   "source": [
    "def linecount(filepath):\n",
    "    "
   ]
  },
  {
   "cell_type": "code",
   "execution_count": 59,
   "metadata": {},
   "outputs": [
    {
     "name": "stdout",
     "output_type": "stream",
     "text": [
      "['new', 'data']\n"
     ]
    }
   ],
   "source": [
    "line='new data'\n",
    "for i in line:\n",
    "    s=line.split()\n",
    "print(s)\n",
    "    \n",
    "    "
   ]
  },
  {
   "cell_type": "code",
   "execution_count": 60,
   "metadata": {},
   "outputs": [
    {
     "data": {
      "text/plain": [
       "{1, 2, 3, 4}"
      ]
     },
     "execution_count": 60,
     "metadata": {},
     "output_type": "execute_result"
    }
   ],
   "source": [
    "l=[1,2,3,3,4]\n",
    "g=set(l)\n"
   ]
  },
  {
   "cell_type": "code",
   "execution_count": 63,
   "metadata": {},
   "outputs": [
    {
     "ename": "NameError",
     "evalue": "name 'g' is not defined",
     "output_type": "error",
     "traceback": [
      "\u001b[1;31m---------------------------------------------------------------------------\u001b[0m",
      "\u001b[1;31mNameError\u001b[0m                                 Traceback (most recent call last)",
      "\u001b[1;32m<ipython-input-63-a85827eadc46>\u001b[0m in \u001b[0;36m<module>\u001b[1;34m\u001b[0m\n\u001b[1;32m----> 1\u001b[1;33m \u001b[0mlen\u001b[0m\u001b[1;33m(\u001b[0m\u001b[0mg\u001b[0m\u001b[1;33m)\u001b[0m\u001b[1;33m\u001b[0m\u001b[1;33m\u001b[0m\u001b[0m\n\u001b[0m",
      "\u001b[1;31mNameError\u001b[0m: name 'g' is not defined"
     ]
    }
   ],
   "source": [
    "\n"
   ]
  },
  {
   "cell_type": "code",
   "execution_count": 65,
   "metadata": {},
   "outputs": [
    {
     "name": "stdout",
     "output_type": "stream",
     "text": [
      "new data\n",
      "line2\n",
      "line3\n",
      "line4\n",
      "5\n"
     ]
    }
   ],
   "source": [
    "def uniqueword(filepath):\n",
    "    c=0\n",
    "    l=[]\n",
    "    with open(filepath,'r') as f:\n",
    "        \n",
    "        for line in f:\n",
    "            print(line,end='')\n",
    "            for i in line.split():\n",
    "               \n",
    "                c+=1\n",
    "                l.append(i)\n",
    "                \n",
    "        print(len(l))\n",
    "        \n",
    "charcount('Datafiles/22june.txt')  "
   ]
  },
  {
   "cell_type": "code",
   "execution_count": 79,
   "metadata": {},
   "outputs": [],
   "source": [
    "def add(filepath):\n",
    "    with open(filepath,'a') as f:\n",
    "       \n",
    "            \n",
    "            f.write('line2'+'\\n')\n",
    "            \n",
    "            \n",
    "add(\"Datafiles/22june.txt\")\n",
    "\n",
    "            "
   ]
  },
  {
   "cell_type": "code",
   "execution_count": 86,
   "metadata": {},
   "outputs": [
    {
     "name": "stdout",
     "output_type": "stream",
     "text": [
      "9\n"
     ]
    }
   ],
   "source": [
    "def uniqueword(filepath):\n",
    "    \n",
    "    l=[]\n",
    "    with open(filepath,'r') as f:\n",
    "        \n",
    "        for line in f:\n",
    "            \n",
    "            for i in line.split():\n",
    "               \n",
    "            \n",
    "                l.append(i)\n",
    "                \n",
    "        print(len(set(l)))\n",
    "        \n",
    "uniqueword('Datafiles/22june.txt')  "
   ]
  },
  {
   "cell_type": "code",
   "execution_count": 89,
   "metadata": {},
   "outputs": [
    {
     "data": {
      "text/plain": [
       "75"
      ]
     },
     "execution_count": 89,
     "metadata": {},
     "output_type": "execute_result"
    }
   ],
   "source": [
    "import os\n",
    "i=os.stat('Datafiles/22june.txt')\n",
    "i.st_size"
   ]
  },
  {
   "cell_type": "code",
   "execution_count": 93,
   "metadata": {},
   "outputs": [
    {
     "ename": "NameError",
     "evalue": "name 'c' is not defined",
     "output_type": "error",
     "traceback": [
      "\u001b[1;31m---------------------------------------------------------------------------\u001b[0m",
      "\u001b[1;31mNameError\u001b[0m                                 Traceback (most recent call last)",
      "\u001b[1;32m<ipython-input-93-c85cd8cc2461>\u001b[0m in \u001b[0;36m<module>\u001b[1;34m\u001b[0m\n\u001b[1;32m----> 1\u001b[1;33m \u001b[0ms\u001b[0m\u001b[1;33m=\u001b[0m\u001b[1;33m{\u001b[0m\u001b[0mc\u001b[0m\u001b[1;33m,\u001b[0m\u001b[0md\u001b[0m\u001b[1;33m,\u001b[0m\u001b[0md\u001b[0m\u001b[1;33m,\u001b[0m\u001b[0me\u001b[0m\u001b[1;33m,\u001b[0m\u001b[0mt\u001b[0m\u001b[1;33m,\u001b[0m\u001b[0mr\u001b[0m\u001b[1;33m,\u001b[0m\u001b[0mt\u001b[0m\u001b[1;33m,\u001b[0m\u001b[0mt\u001b[0m\u001b[1;33m}\u001b[0m\u001b[1;33m\u001b[0m\u001b[1;33m\u001b[0m\u001b[0m\n\u001b[0m\u001b[0;32m      2\u001b[0m \u001b[0mprint\u001b[0m\u001b[1;33m(\u001b[0m\u001b[0mset\u001b[0m\u001b[1;33m(\u001b[0m\u001b[0ms\u001b[0m\u001b[1;33m)\u001b[0m\u001b[1;33m)\u001b[0m\u001b[1;33m\u001b[0m\u001b[1;33m\u001b[0m\u001b[0m\n",
      "\u001b[1;31mNameError\u001b[0m: name 'c' is not defined"
     ]
    }
   ],
   "source": [
    "s={c,d,d,e,t,r,t,t}\n",
    "print(set(s))"
   ]
  },
  {
   "cell_type": "code",
   "execution_count": 95,
   "metadata": {},
   "outputs": [
    {
     "name": "stdout",
     "output_type": "stream",
     "text": [
      "{'hjbfhjbf'}\n"
     ]
    }
   ],
   "source": [
    "s={'hjbfhjbf'}\n",
    "a=set(s)\n",
    "print(a)"
   ]
  },
  {
   "cell_type": "code",
   "execution_count": null,
   "metadata": {},
   "outputs": [],
   "source": [
    "#adding the line numbers to a file"
   ]
  },
  {
   "cell_type": "code",
   "execution_count": null,
   "metadata": {},
   "outputs": [],
   "source": [
    "with open(\"sample.txt\",\"r\") as fh:\n",
    "    lineno=1\n",
    "    lines=fh.readlines()\n",
    "fw=open(\"sample.txt\",\"w\")\n",
    "for line in lines:\n",
    "    print(lineno,line,end=\" \",sep=\".\",file=fw)\n",
    "    lineno+=1\n",
    "fw.close()"
   ]
  },
  {
   "cell_type": "code",
   "execution_count": 97,
   "metadata": {},
   "outputs": [
    {
     "name": "stdout",
     "output_type": "stream",
     "text": [
      "h\n",
      "g\n",
      "h\n",
      "g\n",
      "f\n",
      "h\n",
      "f\n",
      "h\n"
     ]
    }
   ],
   "source": [
    "l='hfhfghgh'\n",
    "for i in l[::-1]:\n",
    "    print(i)"
   ]
  },
  {
   "cell_type": "code",
   "execution_count": 114,
   "metadata": {},
   "outputs": [
    {
     "name": "stdout",
     "output_type": "stream",
     "text": [
      "google.com\n",
      "{'g': 2, 'o': 3, 'l': 1, 'e': 1, '.': 1, 'c': 1, 'm': 1}\n"
     ]
    }
   ],
   "source": [
    "n=input()\n",
    "d={}\n",
    "for i in n:\n",
    "    \n",
    "    if i in d:\n",
    "        d[i]+=1\n",
    "    else:\n",
    "        d[i]=1\n",
    "print(d)\n",
    "    \n",
    "        \n",
    "    "
   ]
  },
  {
   "cell_type": "code",
   "execution_count": 111,
   "metadata": {},
   "outputs": [
    {
     "name": "stdout",
     "output_type": "stream",
     "text": [
      "g\n",
      "o\n",
      "o\n",
      "g\n",
      "l\n",
      "e\n",
      ".\n",
      "c\n",
      "o\n",
      "m\n"
     ]
    },
    {
     "data": {
      "text/plain": [
       "{'g': 2, 'o': 3, 'l': 1, 'e': 1, '.': 1, 'c': 1, 'm': 1}"
      ]
     },
     "execution_count": 111,
     "metadata": {},
     "output_type": "execute_result"
    }
   ],
   "source": [
    "d1={}\n",
    "for i in n:\n",
    "    print(i)\n",
    "    d1[i]=n.count(i)\n",
    "    \n",
    "d1"
   ]
  },
  {
   "cell_type": "code",
   "execution_count": 108,
   "metadata": {},
   "outputs": [
    {
     "name": "stdout",
     "output_type": "stream",
     "text": [
      "{'g', 'l', 'm', 'c', 'o', '.', 'e'}\n",
      "{'g', 'l', 'm', 'c', 'o', '.', 'e'}\n",
      "{'g', 'l', 'm', 'c', 'o', '.', 'e'}\n",
      "{'g', 'l', 'm', 'c', 'o', '.', 'e'}\n",
      "{'g', 'l', 'm', 'c', 'o', '.', 'e'}\n",
      "{'g', 'l', 'm', 'c', 'o', '.', 'e'}\n",
      "{'g', 'l', 'm', 'c', 'o', '.', 'e'}\n"
     ]
    },
    {
     "data": {
      "text/plain": [
       "{'g': 2, 'l': 1, 'm': 1, 'c': 1, 'o': 3, '.': 1, 'e': 1}"
      ]
     },
     "execution_count": 108,
     "metadata": {},
     "output_type": "execute_result"
    }
   ],
   "source": [
    "d2={}\n",
    "for i in set(n):\n",
    "    print(set(n))\n",
    "    d2[i]=n.count(i)\n",
    "d2"
   ]
  },
  {
   "cell_type": "code",
   "execution_count": 113,
   "metadata": {},
   "outputs": [
    {
     "data": {
      "text/plain": [
       "2"
      ]
     },
     "execution_count": 113,
     "metadata": {},
     "output_type": "execute_result"
    }
   ],
   "source": [
    "n='google.com'\n",
    "n.count(n[0])"
   ]
  },
  {
   "cell_type": "code",
   "execution_count": 117,
   "metadata": {},
   "outputs": [
    {
     "data": {
      "text/plain": [
       "'0b1001'"
      ]
     },
     "execution_count": 117,
     "metadata": {},
     "output_type": "execute_result"
    }
   ],
   "source": [
    "bin(9)"
   ]
  },
  {
   "cell_type": "code",
   "execution_count": 6,
   "metadata": {},
   "outputs": [
    {
     "name": "stdout",
     "output_type": "stream",
     "text": [
      "['new', 'data', 'line2', 'line3', 'line4', '0120120', '1', '2', 'line2line2line2', 'line2', 'line2']\n",
      "data : 1\n",
      "line2 : 3\n",
      "1 : 1\n",
      "line2line2line2 : 1\n",
      "line4 : 1\n",
      "new : 1\n",
      "2 : 1\n",
      "line3 : 1\n",
      "0120120 : 1\n"
     ]
    }
   ],
   "source": [
    "def uniqueword(filepath):\n",
    "    \n",
    "    l=[]\n",
    "    with open(filepath,'r') as f:\n",
    "        \n",
    "        for line in f:\n",
    "            \n",
    "            for i in line.split():\n",
    "                l.append(i)\n",
    "        print(l)\n",
    "                \n",
    "        for i in set(l):\n",
    "            a=l.count(i)\n",
    "            print(i,\":\",a)\n",
    "        \n",
    "uniqueword('Datafiles/22june.txt')  "
   ]
  },
  {
   "cell_type": "markdown",
   "metadata": {},
   "source": [
    "### Contacts Application\n",
    "       #Add,search,List,Modify Delete Contact\n",
    "### Find and Replace application\n",
    "       # Count the total number of occurances\n",
    "       # If word existing\n",
    "       # Replace all occurances of a word which\n",
    "### Marks Analysis Application\n",
    "       #Generate the marks file for n students\n",
    "       #Input:Each line contains the marks\n",
    "       #Generates a report with the following information -(distinction,failed,pass)\n",
    "               # Class Average\n",
    "               # % of students passed\n",
    "               # % of students -distinction\n",
    "               # % of students failed\n",
    "               #highest mark frequecy\n",
    "               #lowest mark frequency"
   ]
  },
  {
   "cell_type": "code",
   "execution_count": null,
   "metadata": {},
   "outputs": [],
   "source": []
  }
 ],
 "metadata": {
  "kernelspec": {
   "display_name": "Python 3",
   "language": "python",
   "name": "python3"
  },
  "language_info": {
   "codemirror_mode": {
    "name": "ipython",
    "version": 3
   },
   "file_extension": ".py",
   "mimetype": "text/x-python",
   "name": "python",
   "nbconvert_exporter": "python",
   "pygments_lexer": "ipython3",
   "version": "3.7.3"
  }
 },
 "nbformat": 4,
 "nbformat_minor": 2
}
