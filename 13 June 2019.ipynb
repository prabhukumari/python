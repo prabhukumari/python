{
 "cells": [
  {
   "cell_type": "code",
   "execution_count": 2,
   "metadata": {},
   "outputs": [
    {
     "data": {
      "text/plain": [
       "24"
      ]
     },
     "execution_count": 2,
     "metadata": {},
     "output_type": "execute_result"
    }
   ],
   "source": [
    "#function to calculate the factorial of a given number\n",
    "def fact(n):\n",
    "    a=1\n",
    "    for i in range(1,n+1,1):\n",
    "        \n",
    "        a=a*i\n",
    "    return a    \n",
    "    \n",
    "fact(4)"
   ]
  },
  {
   "cell_type": "code",
   "execution_count": 3,
   "metadata": {},
   "outputs": [
    {
     "name": "stdout",
     "output_type": "stream",
     "text": [
      "1\n",
      "3\n",
      "9\n",
      "33\n"
     ]
    },
    {
     "data": {
      "text/plain": [
       "8"
      ]
     },
     "execution_count": 3,
     "metadata": {},
     "output_type": "execute_result"
    }
   ],
   "source": [
    "#Function to calculate average of all factorials in a given range\n",
    "def avgfact(n):\n",
    "    count=0\n",
    "    sum=0\n",
    "    for i in range(1,n+1):\n",
    "        sum=sum+fact(i)\n",
    "        print(sum)\n",
    "    avg=sum//n\n",
    "    return avg\n",
    "avgfact(4)\n"
   ]
  },
  {
   "cell_type": "code",
   "execution_count": 4,
   "metadata": {},
   "outputs": [
    {
     "name": "stdout",
     "output_type": "stream",
     "text": [
      "153 "
     ]
    }
   ],
   "source": [
    "#Function to generate N odd armstrong numbers \n",
    "def oddarmstrong(n):\n",
    "    \n",
    "   \n",
    "    for i in range(152,n+1):\n",
    "        #print(i)\n",
    "        a=len(str(i))\n",
    "        n1=i\n",
    "        sum=0\n",
    "        while(i>0):\n",
    "            d=i%10\n",
    "            sum=sum+(d**a)\n",
    "            i=i//10\n",
    "            #print(sum)\n",
    "        #print(sum)\n",
    "        if sum==n1:\n",
    "            if n1%2!=0:\n",
    "                print(n1,end=\" \")\n",
    "        \n",
    "oddarmstrong(154)"
   ]
  },
  {
   "cell_type": "code",
   "execution_count": 5,
   "metadata": {},
   "outputs": [
    {
     "name": "stdout",
     "output_type": "stream",
     "text": [
      "10 * 100 = 1000\n",
      "10 * 101 = 1010\n",
      "10 * 102 = 1020\n"
     ]
    }
   ],
   "source": [
    "#Function to generate Multiplication table for a number in a given range\n",
    "#10 in the range(100, 102) inclusive\n",
    "#10 x 100 = 1000\n",
    "#10 x 101 = 1010\n",
    "#10 x 102 = 1020\n",
    "def mul(n,lb,ub):\n",
    "    for i in range(lb,ub+1):\n",
    "        res=n*i\n",
    "        print(n,\"*\",i,\"=\",res)\n",
    "mul(10,100,102)\n",
    "    "
   ]
  },
  {
   "cell_type": "code",
   "execution_count": 6,
   "metadata": {},
   "outputs": [
    {
     "name": "stdout",
     "output_type": "stream",
     "text": [
      "500 504 508 512 516 520 524 "
     ]
    }
   ],
   "source": [
    "#[500 ,550] -->500,501,502...550\n",
    "#(500 ,550) -->501,501,502...549\n",
    "#range(500 ,550) -->500,501,502...549\n",
    "# All the based functions in Python have start value inclusive\n",
    "\n",
    "# Function to print the alternative values in a range \n",
    "def alternateValue(start,end):\n",
    "    for value in range(start,end+1, 4):\n",
    "        print(value,end=\" \")\n",
    "    return\n",
    "alternateValue(500,525)\n"
   ]
  },
  {
   "cell_type": "code",
   "execution_count": 7,
   "metadata": {},
   "outputs": [
    {
     "name": "stdout",
     "output_type": "stream",
     "text": [
      "10 9 8 7 6 5 4 3 2 1 "
     ]
    }
   ],
   "source": [
    "#Function to print reverse of given range in the \n",
    "def reverseRange(start,end):\n",
    "    for value in range(end,start-1,-1):\n",
    "        print(value, end=\" \")\n",
    "    return\n",
    "reverseRange(1,10)"
   ]
  },
  {
   "cell_type": "code",
   "execution_count": 8,
   "metadata": {},
   "outputs": [
    {
     "name": "stdout",
     "output_type": "stream",
     "text": [
      "9 7 5 3 1 "
     ]
    }
   ],
   "source": [
    "#Funtion print the odd numbers in reverse order in a range\n",
    "def reverseOddNumbers(start,end):\n",
    "    for i in range(end,start-1,-1):\n",
    "        if i%2!=0:\n",
    "            print(i,end=\" \")\n",
    "    return\n",
    "reverseOddNumbers(1,10)"
   ]
  },
  {
   "cell_type": "code",
   "execution_count": 10,
   "metadata": {},
   "outputs": [
    {
     "data": {
      "text/plain": [
       "101"
      ]
     },
     "execution_count": 10,
     "metadata": {},
     "output_type": "execute_result"
    }
   ],
   "source": [
    "#Calculate the sume of numbers in a range \n",
    "def sumRange(start,end):\n",
    "    sum=0\n",
    "    for i in range (start,end+1):\n",
    "        sum=sum+1\n",
    "    return sum\n",
    "sumRange(100,200)\n",
    "#sum of all n natural numbers \n",
    "#200* 201/2- (100*101)/2"
   ]
  },
  {
   "cell_type": "code",
   "execution_count": 11,
   "metadata": {},
   "outputs": [
    {
     "data": {
      "text/plain": [
       "3.0"
      ]
     },
     "execution_count": 11,
     "metadata": {},
     "output_type": "execute_result"
    }
   ],
   "source": [
    "#function to calculate the average of a given range\n",
    "#(1,5)->3\n",
    "def avgGivenRange(st,end):\n",
    "    sum =0\n",
    "   # count =0\n",
    "    for i in range(st,end+1):\n",
    "        sum =sum +i   #sum calculation \n",
    "    #    count =count +1    #counting number of values \n",
    "  #  return sum/count\n",
    "    return sum/(end-st+1)\n",
    "avgGivenRange(1,5)\n",
    "        "
   ]
  },
  {
   "cell_type": "code",
   "execution_count": 12,
   "metadata": {},
   "outputs": [
    {
     "name": "stdout",
     "output_type": "stream",
     "text": [
      "1920 1924 1928 1932 1936 1940 1944 1948 1952 1956 1960 1964 1968 1972 1976 1980 1984 1988 1992 1996 2000 2004 2008 2012 2016 "
     ]
    }
   ],
   "source": [
    "#Function t generate al leap in a given time period \n",
    "#2000 -2020 -> 2000 2004 2008 2012 2016 2020 \n",
    "#isLeapyear(year) #To check if a given year is lease \n",
    "\n",
    "#generate LEapyear(startYear,endYear)#uses the isLeapYear()\n",
    "def isLeapYear(year):\n",
    "    if year%400 == 0  or (year %100!=0 and year % 4==0):\n",
    "        return True\n",
    "    return False\n",
    "#isLeapYear(2014)\n",
    "def genertateLeapYear(sy,se):\n",
    "    for year in range(sy,se+1):\n",
    "        if isLeapYear(year):\n",
    "            print(year,end=\" \")\n",
    "    return\n",
    "genertateLeapYear(1919,2019)"
   ]
  },
  {
   "cell_type": "code",
   "execution_count": 13,
   "metadata": {},
   "outputs": [
    {
     "data": {
      "text/plain": [
       "36890"
      ]
     },
     "execution_count": 13,
     "metadata": {},
     "output_type": "execute_result"
    }
   ],
   "source": [
    "#Calculate the number of days in a given time period using Leapyear ,if the year is \n",
    "def isLeapYear(year):\n",
    "    if year % 400 == 0 or (year % 100 !=0 and year % 4==0):\n",
    "        return True\n",
    "    return False \n",
    "isLeapYear(2000)\n",
    "def numberOfDays(sy,se):\n",
    "    sum =0\n",
    "    for year in range(sy,se+1):\n",
    "        if isLeapYear(year):\n",
    "            sum =sum +366\n",
    "        else:\n",
    "            sum = sum +365\n",
    "        \n",
    "    return sum\n",
    "numberOfDays(1919,2019)"
   ]
  },
  {
   "cell_type": "code",
   "execution_count": 14,
   "metadata": {},
   "outputs": [
    {
     "data": {
      "text/plain": [
       "1461"
      ]
     },
     "execution_count": 14,
     "metadata": {},
     "output_type": "execute_result"
    }
   ],
   "source": [
    "def daysinamonth(m,year):\n",
    "    if ((m<=7 and m%2!=0 and m!=2) or (m>=8 and m%2==0 and m!=2)):\n",
    "        return 31\n",
    "    elif(m==2):\n",
    "        if year % 400 == 0 or (year % 100 !=0 and year % 4==0):\n",
    "            return 29\n",
    "        return 28\n",
    "    return 30\n",
    "    \n",
    "def daysinstartyear(startmonth,startyear):\n",
    "    days=0\n",
    "    for month in range(startmonth,13):\n",
    "        days+=daysinamonth(month,startyear)\n",
    "    return days\n",
    "def daysinendyear(endmonth,endyear):\n",
    "    days=0\n",
    "    for month in range(1,endmonth+1):\n",
    "        days+=daysinamonth(month,endyear)\n",
    "    return days\n",
    "def isLeapYear(year):\n",
    "    if year % 400 == 0 or (year % 100 !=0 and year % 4==0):\n",
    "        return True\n",
    "    return False \n",
    "isLeapYear(2000)\n",
    "def numberOfDays(sy,se):\n",
    "    sum =0\n",
    "    for year in range(sy,se+1):\n",
    "        if isLeapYear(year):\n",
    "            sum =sum +366\n",
    "        else:\n",
    "            sum = sum +365\n",
    "        \n",
    "    return sum\n",
    "\n",
    "\n",
    "def noofhours(startmonth,startyear,endmonth,endyear):\n",
    "    \n",
    "    days=0\n",
    "    days3=0\n",
    "    days1=daysinstartyear(startmonth,startyear)\n",
    "    days2=daysinendyear(endmonth,endyear)\n",
    "    if endyear-startyear==2:\n",
    "        days3+= numberOfDays(startyear+1,startyear+1)\n",
    "        return days3\n",
    "    elif endyear-startyear>2:\n",
    "        days3+= numberOfDays(startyear+1,endyear+1)\n",
    "        return days3\n",
    "    days=days1+days2+days3\n",
    "    return days*24\n",
    "    \n",
    "        \n",
    "noofhours(6,1997,9,2000)      \n",
    "        "
   ]
  },
  {
   "cell_type": "code",
   "execution_count": null,
   "metadata": {},
   "outputs": [],
   "source": []
  }
 ],
 "metadata": {
  "kernelspec": {
   "display_name": "Python 3",
   "language": "python",
   "name": "python3"
  },
  "language_info": {
   "codemirror_mode": {
    "name": "ipython",
    "version": 3
   },
   "file_extension": ".py",
   "mimetype": "text/x-python",
   "name": "python",
   "nbconvert_exporter": "python",
   "pygments_lexer": "ipython3",
   "version": "3.7.3"
  }
 },
 "nbformat": 4,
 "nbformat_minor": 2
}
