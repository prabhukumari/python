{
 "cells": [
  {
   "cell_type": "code",
   "execution_count": 103,
   "metadata": {},
   "outputs": [
    {
     "name": "stdout",
     "output_type": "stream",
     "text": [
      "prabhu already exists\n"
     ]
    }
   ],
   "source": [
    "from packages import validators\n",
    "def addContact(name,phone,email):\n",
    "    filename='Datafiles/mycontactcs.txt'\n",
    "    if not checkContactExists(name):\n",
    "    \n",
    "        with open(filename,'a') as f:\n",
    "            line=name+':'+str(phone)+','+email+'\\n'\n",
    "            f.write(line)\n",
    "        print(name,'added to contacts')\n",
    "    else:\n",
    "        print(name,'already exists')\n",
    "    return\n",
    "addContact(\"prabhu\",7799098284,\"name_123@gmail.com\")\n"
   ]
  },
  {
   "cell_type": "code",
   "execution_count": 104,
   "metadata": {},
   "outputs": [
    {
     "ename": "NameError",
     "evalue": "name 'name' is not defined",
     "output_type": "error",
     "traceback": [
      "\u001b[1;31m---------------------------------------------------------------------------\u001b[0m",
      "\u001b[1;31mNameError\u001b[0m                                 Traceback (most recent call last)",
      "\u001b[1;32m<ipython-input-104-7c9cb88dbaed>\u001b[0m in \u001b[0;36m<module>\u001b[1;34m\u001b[0m\n\u001b[0;32m      6\u001b[0m             \u001b[0mpattern\u001b[0m\u001b[1;33m=\u001b[0m\u001b[0mname\u001b[0m\u001b[1;33m+\u001b[0m\u001b[1;34m','\u001b[0m\u001b[1;33m\u001b[0m\u001b[1;33m\u001b[0m\u001b[0m\n\u001b[0;32m      7\u001b[0m     \u001b[1;32mreturn\u001b[0m \u001b[0mre\u001b[0m\u001b[1;33m.\u001b[0m\u001b[0msearch\u001b[0m\u001b[1;33m(\u001b[0m\u001b[0mname\u001b[0m\u001b[1;33m,\u001b[0m\u001b[0mfiledata\u001b[0m\u001b[1;33m)\u001b[0m\u001b[1;33m\u001b[0m\u001b[1;33m\u001b[0m\u001b[0m\n\u001b[1;32m----> 8\u001b[1;33m \u001b[1;32mif\u001b[0m \u001b[0mcheckContactExists\u001b[0m\u001b[1;33m(\u001b[0m\u001b[0mname\u001b[0m\u001b[1;33m)\u001b[0m\u001b[1;33m:\u001b[0m\u001b[1;33m\u001b[0m\u001b[1;33m\u001b[0m\u001b[0m\n\u001b[0m\u001b[0;32m      9\u001b[0m     \u001b[0mprint\u001b[0m\u001b[1;33m(\u001b[0m\u001b[1;32mTrue\u001b[0m\u001b[1;33m)\u001b[0m\u001b[1;33m\u001b[0m\u001b[1;33m\u001b[0m\u001b[0m\n\u001b[0;32m     10\u001b[0m \u001b[1;32melse\u001b[0m\u001b[1;33m:\u001b[0m\u001b[1;33m\u001b[0m\u001b[1;33m\u001b[0m\u001b[0m\n",
      "\u001b[1;31mNameError\u001b[0m: name 'name' is not defined"
     ]
    }
   ],
   "source": [
    "import re\n",
    "def checkContactExists(name):\n",
    "    filename='Datafiles/contacts.txt'\n",
    "    with open(filename,'r') as f:\n",
    "            filedata=f.read()\n",
    "            pattern=name+','\n",
    "    return re.search(name,filedata)\n",
    "if checkContactExists(name):\n",
    "    print(True)\n",
    "else: \n",
    "    print(False)"
   ]
  },
  {
   "cell_type": "code",
   "execution_count": 27,
   "metadata": {},
   "outputs": [
    {
     "data": {
      "text/plain": [
       "\"name1:[9963674059: 'name1@domain.ext']\\nprabhukumari:['prabhukumari@gmail.com': 9947426208]\\nsandhya:['sandhya4059@gmail.com': 9948426208]\\nname1:7799098284:name_123@gmail.com\\nname1:7799098284:name_123@gmail.com\\nname1:7799098284:name_123@gmail.com\\n\""
      ]
     },
     "execution_count": 27,
     "metadata": {},
     "output_type": "execute_result"
    }
   ],
   "source": [
    "filename='DataFiles/contacts.txt'\n",
    "def csvtolist(filename):\n",
    "    li=[]\n",
    "    with open(filename,'r') as f:\n",
    "        for line in f:\n",
    "            li.append(line.split(','))\n",
    "    return li\n",
    "\n",
    "\n",
    "def listofile(li):\n",
    "    s=''\n",
    "    for i in li:\n",
    "        s+=','.join(i)\n",
    "    return(s)\n",
    "\n",
    "    "
   ]
  },
  {
   "cell_type": "code",
   "execution_count": 105,
   "metadata": {},
   "outputs": [],
   "source": [
    "fname='Datafiles/mycontatcs.txt'\n",
    "f=open(fname,'w')\n",
    "f.write(\"raj,9963674059,raj@gmail.com\")\n",
    "f.close()"
   ]
  },
  {
   "cell_type": "code",
   "execution_count": 23,
   "metadata": {},
   "outputs": [
    {
     "name": "stdout",
     "output_type": "stream",
     "text": [
      "raj,9963674059,raj@gmail.com\n"
     ]
    }
   ],
   "source": [
    "#or also we can write it as\n",
    "with open(fname,'r') as f:\n",
    "    print(f.read())\n"
   ]
  },
  {
   "cell_type": "code",
   "execution_count": 28,
   "metadata": {},
   "outputs": [],
   "source": [
    "#to add the data without replacing we use append\n",
    "fname='Datafiles/mycontatcs.txt'\n",
    "f=open(fname,'a')\n",
    "f.write(\"raj,9963674059,raj@gmail.com\\n\")\n",
    "f.close()"
   ]
  },
  {
   "cell_type": "code",
   "execution_count": 108,
   "metadata": {},
   "outputs": [
    {
     "data": {
      "text/plain": [
       "True"
      ]
     },
     "execution_count": 108,
     "metadata": {},
     "output_type": "execute_result"
    }
   ],
   "source": [
    "def searchcont(fname,name):\n",
    "    f2=csvtolist(fname)\n",
    "    \n",
    "    flag=0\n",
    "    for line in f2:\n",
    "       \n",
    "        if name == line[0]:\n",
    "            flag=1\n",
    "            return True\n",
    "            #print(','.join(line),end=' ')\n",
    "    if flag == 0:\n",
    "        #print(\"contact not found\")\n",
    "        return -1\n",
    "fname='Datafiles/mycontatcs.txt'\n",
    "#searchcont(fname,'raj')\n"
   ]
  },
  {
   "cell_type": "code",
   "execution_count": 118,
   "metadata": {},
   "outputs": [
    {
     "name": "stdout",
     "output_type": "stream",
     "text": [
      "contact not found\n",
      "gmail already exists\n"
     ]
    }
   ],
   "source": [
    "from packages import validators\n",
    "def addContact(name,phone,email):\n",
    "    fname='Datafiles/mycontatcs.txt'\n",
    "    if not searchcont(fname,name):\n",
    "    \n",
    "        with open(filename,'a') as f:\n",
    "            line=name+','+str(phone)+','+email+'\\n'\n",
    "            f.write(line)\n",
    "        print(name,'added to contacts')\n",
    "    else:\n",
    "        print(name,'already exists')\n",
    "    return\n",
    "addContact(\"gmail\",7799098284,\"name_123@gmail.com\")"
   ]
  },
  {
   "cell_type": "code",
   "execution_count": 29,
   "metadata": {},
   "outputs": [
    {
     "name": "stdout",
     "output_type": "stream",
     "text": [
      "['raju,9963674059,raju@gmail.com\\n', 'raju,9963674059,raju@gmail.com\\n', 'raj,9963674059,raj@gmail.com\\n']\n"
     ]
    }
   ],
   "source": [
    "#to read line by line\n",
    "#or also we can write it as\n",
    "with open(fname,'r') as f:\n",
    "    print(f.readlines())"
   ]
  },
  {
   "cell_type": "code",
   "execution_count": 33,
   "metadata": {},
   "outputs": [
    {
     "name": "stdout",
     "output_type": "stream",
     "text": [
      "raju,9963674059,raju@gmail.com\n",
      "\n",
      "raju,9963674059,raju@gmail.com\n",
      "\n",
      "raj,9963674059,raj@gmail.com\n",
      "\n"
     ]
    }
   ],
   "source": [
    "with open(fname,'r') as f:\n",
    "    for line in f.readlines():\n",
    "        print(line)"
   ]
  },
  {
   "cell_type": "code",
   "execution_count": 34,
   "metadata": {},
   "outputs": [
    {
     "name": "stdout",
     "output_type": "stream",
     "text": [
      "raju,9963674059,raju@gmail.com\n",
      "raju,9963674059,raju@gmail.com\n",
      "raj,9963674059,raj@gmail.com\n"
     ]
    }
   ],
   "source": [
    "with open(fname,'r') as f:\n",
    "    for line in f.readlines():\n",
    "        print(line,end='')"
   ]
  },
  {
   "cell_type": "code",
   "execution_count": 52,
   "metadata": {},
   "outputs": [
    {
     "name": "stdout",
     "output_type": "stream",
     "text": [
      "0\n"
     ]
    },
    {
     "data": {
      "text/plain": [
       "5"
      ]
     },
     "execution_count": 52,
     "metadata": {},
     "output_type": "execute_result"
    }
   ],
   "source": [
    "l=[1,2,2,2,2,2,3,4,4,4,55,55,6]\n",
    "print(l.count(l))\n",
    "a=max(l,key=l.count)\n",
    "l.count(a)\n",
    "\n"
   ]
  },
  {
   "cell_type": "code",
   "execution_count": 53,
   "metadata": {},
   "outputs": [
    {
     "ename": "SyntaxError",
     "evalue": "can't assign to literal (<ipython-input-53-6da34895e1c6>, line 2)",
     "output_type": "error",
     "traceback": [
      "\u001b[1;36m  File \u001b[1;32m\"<ipython-input-53-6da34895e1c6>\"\u001b[1;36m, line \u001b[1;32m2\u001b[0m\n\u001b[1;33m    for 2 in l:\u001b[0m\n\u001b[1;37m       ^\u001b[0m\n\u001b[1;31mSyntaxError\u001b[0m\u001b[1;31m:\u001b[0m can't assign to literal\n"
     ]
    }
   ],
   "source": [
    "L=[1,2,3]\n",
    "for  in l:\n",
    "    return True\n",
    " \n",
    "    "
   ]
  },
  {
   "cell_type": "code",
   "execution_count": 54,
   "metadata": {},
   "outputs": [
    {
     "data": {
      "text/plain": [
       "['aabbcdd']"
      ]
     },
     "execution_count": 54,
     "metadata": {},
     "output_type": "execute_result"
    }
   ],
   "source": [
    "s='aabbcdd'"
   ]
  },
  {
   "cell_type": "code",
   "execution_count": 2,
   "metadata": {},
   "outputs": [
    {
     "ename": "SyntaxError",
     "evalue": "unexpected EOF while parsing (<ipython-input-2-03b3dede7ce8>, line 3)",
     "output_type": "error",
     "traceback": [
      "\u001b[1;36m  File \u001b[1;32m\"<ipython-input-2-03b3dede7ce8>\"\u001b[1;36m, line \u001b[1;32m3\u001b[0m\n\u001b[1;33m    \u001b[0m\n\u001b[1;37m    ^\u001b[0m\n\u001b[1;31mSyntaxError\u001b[0m\u001b[1;31m:\u001b[0m unexpected EOF while parsing\n"
     ]
    }
   ],
   "source": [
    "s='aaaaa'\n",
    "for i in range(len(s)):\n",
    "    \n"
   ]
  },
  {
   "cell_type": "code",
   "execution_count": null,
   "metadata": {},
   "outputs": [],
   "source": [
    "fname='Datafiles/mycontatcs.txt'\n",
    "f=open(fname,'a')\n",
    "f.write(\"raj,9963674059,raj@gmail.com\\n\")\n",
    "f.close()"
   ]
  },
  {
   "cell_type": "code",
   "execution_count": null,
   "metadata": {},
   "outputs": [],
   "source": []
  },
  {
   "cell_type": "code",
   "execution_count": 106,
   "metadata": {},
   "outputs": [
    {
     "data": {
      "text/plain": [
       "True"
      ]
     },
     "execution_count": 106,
     "metadata": {},
     "output_type": "execute_result"
    }
   ],
   "source": [
    "def searchcont(fname,name):\n",
    "    f2=csvtolist(fname)\n",
    "    \n",
    "    flag=0\n",
    "    for line in f2:\n",
    "       \n",
    "        if name == line[0]:\n",
    "            flag=1\n",
    "            return True\n",
    "            #print(','.join(line),end=' ')\n",
    "    if flag == 0:\n",
    "        print(\"contact not found\")\n",
    "        return -1\n",
    "fname='Datafiles/mycontatcs.txt'\n",
    "searchcont(fname,'raj')\n"
   ]
  },
  {
   "cell_type": "code",
   "execution_count": 49,
   "metadata": {},
   "outputs": [
    {
     "data": {
      "text/plain": [
       "['raj', '9963674059', 'raj@gmail.com\\n']"
      ]
     },
     "execution_count": 49,
     "metadata": {},
     "output_type": "execute_result"
    }
   ],
   "source": [
    "def searchwithreturn(fname,name):\n",
    "    f2=csvtolist(fname)\n",
    "\n",
    "    flag=0\n",
    "    for line in f2:\n",
    "        if name ==line[0]:\n",
    "            flag=1\n",
    "            return line\n",
    "    if flag == 0:\n",
    "        return -1\n",
    "fname='Datafiles/mycontatcs.txt'\n",
    "searchwithreturn(fname,'raj')"
   ]
  },
  {
   "cell_type": "code",
   "execution_count": 51,
   "metadata": {},
   "outputs": [
    {
     "name": "stdout",
     "output_type": "stream",
     "text": [
      "['raj', '9963674059', 'raj@gmail.com\\n']\n"
     ]
    }
   ],
   "source": [
    "def contDel(fname,name):\n",
    "    i=searchwithreturn(fname,name)\n",
    "    print(i)\n",
    "    if i[0]==name:\n",
    "        f1=csvtolist(fname)\n",
    "        f1.remove(i)\n",
    "        s=listofile(f1)\n",
    "        with open(fname,'w') as f:\n",
    "            f.write(s)\n",
    "    \n",
    "    else:\n",
    "        print(\"contact not found to remove\")\n",
    "contDel(fname,'raj')"
   ]
  },
  {
   "cell_type": "code",
   "execution_count": 96,
   "metadata": {},
   "outputs": [
    {
     "name": "stdout",
     "output_type": "stream",
     "text": [
      "[['raja', '\\n'], ['9963674059', '\\n'], ['apssdc@gmail.com', '\\n'], ['7856946574', '\\n'], ['apssdc@gmail.com\\n']]\n"
     ]
    },
    {
     "ename": "IndexError",
     "evalue": "list assignment index out of range",
     "output_type": "error",
     "traceback": [
      "\u001b[1;31m---------------------------------------------------------------------------\u001b[0m",
      "\u001b[1;31mIndexError\u001b[0m                                Traceback (most recent call last)",
      "\u001b[1;32m<ipython-input-96-d6068e25cbd3>\u001b[0m in \u001b[0;36m<module>\u001b[1;34m\u001b[0m\n\u001b[0;32m     27\u001b[0m     \u001b[1;32mwith\u001b[0m \u001b[0mopen\u001b[0m\u001b[1;33m(\u001b[0m\u001b[0mfname\u001b[0m\u001b[1;33m,\u001b[0m\u001b[1;34m'w'\u001b[0m\u001b[1;33m)\u001b[0m \u001b[1;32mas\u001b[0m \u001b[0mf\u001b[0m\u001b[1;33m:\u001b[0m\u001b[1;33m\u001b[0m\u001b[1;33m\u001b[0m\u001b[0m\n\u001b[0;32m     28\u001b[0m         \u001b[0mf\u001b[0m\u001b[1;33m.\u001b[0m\u001b[0mwrite\u001b[0m\u001b[1;33m(\u001b[0m\u001b[0ms\u001b[0m\u001b[1;33m)\u001b[0m\u001b[1;33m\u001b[0m\u001b[1;33m\u001b[0m\u001b[0m\n\u001b[1;32m---> 29\u001b[1;33m \u001b[0mmodifycon\u001b[0m\u001b[1;33m(\u001b[0m\u001b[1;34m'Datafiles/mycontatcs.txt'\u001b[0m\u001b[1;33m,\u001b[0m\u001b[1;34m'raja'\u001b[0m\u001b[1;33m,\u001b[0m\u001b[1;36m9963674059\u001b[0m\u001b[1;33m,\u001b[0m\u001b[1;34m'gmail@gmail.com'\u001b[0m\u001b[1;33m)\u001b[0m\u001b[1;33m\u001b[0m\u001b[1;33m\u001b[0m\u001b[0m\n\u001b[0m",
      "\u001b[1;32m<ipython-input-96-d6068e25cbd3>\u001b[0m in \u001b[0;36mmodifycon\u001b[1;34m(fname, name, no, email)\u001b[0m\n\u001b[0;32m     22\u001b[0m             \u001b[0mline\u001b[0m\u001b[1;33m[\u001b[0m\u001b[1;36m1\u001b[0m\u001b[1;33m]\u001b[0m\u001b[1;33m=\u001b[0m\u001b[0mstr\u001b[0m\u001b[1;33m(\u001b[0m\u001b[0mno\u001b[0m\u001b[1;33m)\u001b[0m\u001b[1;33m\u001b[0m\u001b[1;33m\u001b[0m\u001b[0m\n\u001b[0;32m     23\u001b[0m             \u001b[1;31m#print(f2)\u001b[0m\u001b[1;33m\u001b[0m\u001b[1;33m\u001b[0m\u001b[1;33m\u001b[0m\u001b[0m\n\u001b[1;32m---> 24\u001b[1;33m             \u001b[0mline\u001b[0m\u001b[1;33m[\u001b[0m\u001b[1;36m2\u001b[0m\u001b[1;33m]\u001b[0m\u001b[1;33m=\u001b[0m\u001b[0memail\u001b[0m\u001b[1;33m\u001b[0m\u001b[1;33m\u001b[0m\u001b[0m\n\u001b[0m\u001b[0;32m     25\u001b[0m     \u001b[0ms\u001b[0m\u001b[1;33m=\u001b[0m\u001b[0mlistofile\u001b[0m\u001b[1;33m(\u001b[0m\u001b[0mf2\u001b[0m\u001b[1;33m)\u001b[0m\u001b[1;33m\u001b[0m\u001b[1;33m\u001b[0m\u001b[0m\n\u001b[0;32m     26\u001b[0m     \u001b[1;31m#print(s)\u001b[0m\u001b[1;33m\u001b[0m\u001b[1;33m\u001b[0m\u001b[1;33m\u001b[0m\u001b[0m\n",
      "\u001b[1;31mIndexError\u001b[0m: list assignment index out of range"
     ]
    }
   ],
   "source": [
    "def csvtolist(filename):\n",
    "    li=[]\n",
    "    with open(filename,'r') as f:\n",
    "        for line in f:\n",
    "            li.append(line.split(','))\n",
    "    return li\n",
    "def listofile(li):\n",
    "    s=''\n",
    "    for i in li:\n",
    "        s+=','.join(i)\n",
    "        #s+=''\n",
    "    return(s)\n",
    "\n",
    "def modifycon(fname,name,no,email):\n",
    "    f2=csvtolist(fname)\n",
    "    print(f2)\n",
    "    for line in f2:\n",
    "        if name==line[0]:\n",
    "            #print(name)\n",
    "            line[1]=str(no)\n",
    "            #print(f2)\n",
    "            line[2]=email\n",
    "    s=listofile(f2)\n",
    "    #print(s)\n",
    "    with open(fname,'w') as f:\n",
    "        f.write(s)\n",
    "modifycon('Datafiles/mycontatcs.txt','raja',9963674059,'gmail@gmail.com')            "
   ]
  },
  {
   "cell_type": "code",
   "execution_count": 76,
   "metadata": {},
   "outputs": [
    {
     "name": "stdout",
     "output_type": "stream",
     "text": [
      "[['raja,7856946574,apssdc@gmail.com\\n'], ['raju,7856946574,apssdc@gmail.com']]\n",
      "raja,7856946574,apssdc@gmail.com\n",
      "raju,7856946574,apssdc@gmail.com\n"
     ]
    }
   ],
   "source": [
    "modifycon('Datafiles/mycontatcs.txt','raja',9963674059,'apssdc@gmail.com')   \n"
   ]
  },
  {
   "cell_type": "code",
   "execution_count": null,
   "metadata": {},
   "outputs": [],
   "source": []
  }
 ],
 "metadata": {
  "kernelspec": {
   "display_name": "Python 3",
   "language": "python",
   "name": "python3"
  },
  "language_info": {
   "codemirror_mode": {
    "name": "ipython",
    "version": 3
   },
   "file_extension": ".py",
   "mimetype": "text/x-python",
   "name": "python",
   "nbconvert_exporter": "python",
   "pygments_lexer": "ipython3",
   "version": "3.7.3"
  }
 },
 "nbformat": 4,
 "nbformat_minor": 2
}
