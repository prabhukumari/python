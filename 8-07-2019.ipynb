{
 "cells": [
  {
   "cell_type": "markdown",
   "metadata": {},
   "source": [
    "#### 1.Function to print all numbers divisible by 6 and not a factor of 100 in a given range(lb, ub) inclusive"
   ]
  },
  {
   "cell_type": "code",
   "execution_count": 5,
   "metadata": {},
   "outputs": [],
   "source": [
    "#Function to print all numbers divisible by 6 and not a factor of \n",
    "#100 in a given range(lb, ub) inclusive\n",
    "def div(lb,ub):\n",
    "    for i in range(lb,ub+1):\n",
    "        if i%6==0 and i%100!=0:\n",
    "            print(i,end=\" \")\n"
   ]
  },
  {
   "cell_type": "markdown",
   "metadata": {},
   "source": [
    "#### 2.Function to find the average of cubes of all even numbers in a given range(lb, ub) inclusive\n"
   ]
  },
  {
   "cell_type": "code",
   "execution_count": 20,
   "metadata": {},
   "outputs": [
    {
     "name": "stdout",
     "output_type": "stream",
     "text": [
      "360.0\n"
     ]
    }
   ],
   "source": [
    "l=[]\n",
    "def cube(lb,ub):\n",
    "    for i in range(lb,ub+1):\n",
    "        if i%2==0:\n",
    "            l.append(i**3)\n",
    "    \n",
    "    print(sum(l)/len(l))\n",
    "cube(1,10)"
   ]
  },
  {
   "cell_type": "markdown",
   "metadata": {},
   "source": [
    "#### Function to generate the list of factors for a given number\n"
   ]
  },
  {
   "cell_type": "code",
   "execution_count": 76,
   "metadata": {},
   "outputs": [
    {
     "data": {
      "text/plain": [
       "[1, 2, 3, 6]"
      ]
     },
     "execution_count": 76,
     "metadata": {},
     "output_type": "execute_result"
    }
   ],
   "source": [
    "\n",
    "def factor(n):\n",
    "    l=[]\n",
    "    for i in range(1,n+1):\n",
    "        if n%i==0:\n",
    "            l.append(i)\n",
    "    return l\n",
    "factor(6)\n"
   ]
  },
  {
   "cell_type": "markdown",
   "metadata": {},
   "source": [
    "#### Function to calculate the factorial of a given number\n"
   ]
  },
  {
   "cell_type": "code",
   "execution_count": 96,
   "metadata": {},
   "outputs": [
    {
     "data": {
      "text/plain": [
       "720"
      ]
     },
     "execution_count": 96,
     "metadata": {},
     "output_type": "execute_result"
    }
   ],
   "source": [
    "def factorial(n):\n",
    "    fact=1\n",
    "    for i in range(1,n+1):\n",
    "        fact=fact*i\n",
    "    return fact\n",
    "factorial(6)    "
   ]
  },
  {
   "cell_type": "markdown",
   "metadata": {},
   "source": [
    "#### Function to check if a given number is Prime"
   ]
  },
  {
   "cell_type": "code",
   "execution_count": 35,
   "metadata": {},
   "outputs": [
    {
     "data": {
      "text/plain": [
       "-1"
      ]
     },
     "execution_count": 35,
     "metadata": {},
     "output_type": "execute_result"
    }
   ],
   "source": [
    "def prime(n):\n",
    "    for i in range(2,n//2+1):\n",
    "        if n%i==0:\n",
    "            return -1\n",
    "    return 1\n",
    "prime(4)    "
   ]
  },
  {
   "cell_type": "markdown",
   "metadata": {},
   "source": [
    "#### Function to calculate the average first N Prime numbers\n"
   ]
  },
  {
   "cell_type": "code",
   "execution_count": 37,
   "metadata": {},
   "outputs": [
    {
     "name": "stdout",
     "output_type": "stream",
     "text": [
      "[2]\n",
      "[2, 3]\n",
      "[2, 3, 5]\n",
      "[2, 3, 5, 7]\n"
     ]
    },
    {
     "data": {
      "text/plain": [
       "4"
      ]
     },
     "execution_count": 37,
     "metadata": {},
     "output_type": "execute_result"
    }
   ],
   "source": [
    "l=[]\n",
    "def primeavg(n):\n",
    "    for i in range(2,n+1):\n",
    "        if prime(i)==1:\n",
    "            l.append(i)\n",
    "            print(l)\n",
    "    return sum(l)//len(l)\n",
    "primeavg(10)"
   ]
  },
  {
   "cell_type": "markdown",
   "metadata": {},
   "source": [
    "#### Function to generate all Perfect numbers in a given range\n"
   ]
  },
  {
   "cell_type": "code",
   "execution_count": 89,
   "metadata": {},
   "outputs": [
    {
     "name": "stdout",
     "output_type": "stream",
     "text": [
      "6 28 496 "
     ]
    }
   ],
   "source": [
    "def perfect(lb,ub):\n",
    "    \n",
    "    for i in range(lb,ub+1):\n",
    "        a=factor(i)\n",
    "        \n",
    "        if (sum(a)-i)==i:\n",
    "            print(i,end=\" \")\n",
    "perfect(1,500)"
   ]
  },
  {
   "cell_type": "markdown",
   "metadata": {},
   "source": [
    "#### Function to calculate the average of all factorials in a given range\n"
   ]
  },
  {
   "cell_type": "code",
   "execution_count": 102,
   "metadata": {},
   "outputs": [
    {
     "name": "stdout",
     "output_type": "stream",
     "text": [
      "[1, 2, 6, 24, 120]\n",
      "153\n",
      "5\n"
     ]
    },
    {
     "data": {
      "text/plain": [
       "30.6"
      ]
     },
     "execution_count": 102,
     "metadata": {},
     "output_type": "execute_result"
    }
   ],
   "source": [
    "l=[]\n",
    "def factavg(lb,ub):\n",
    "    for i in range(lb,ub+1):\n",
    "        \n",
    "        l.append(factorial(i))\n",
    "    print(l)\n",
    "    print(sum(l))\n",
    "    print(len(l))\n",
    "    return sum(l)/len(l)\n",
    "factavg(1,5)"
   ]
  },
  {
   "cell_type": "markdown",
   "metadata": {},
   "source": [
    "#### Function to generate N odd Armstrong numbers\n"
   ]
  },
  {
   "cell_type": "code",
   "execution_count": 142,
   "metadata": {},
   "outputs": [
    {
     "name": "stdout",
     "output_type": "stream",
     "text": [
      "1 3 5 7 9 153 371 407 "
     ]
    }
   ],
   "source": [
    "\n",
    "def armstrong(n):\n",
    "    sum=0\n",
    "    n=str(n)\n",
    "    l=len(n)\n",
    "    a=list(int(i) for i in n)\n",
    "    \n",
    "    for i in a:\n",
    "        sum=sum+(i**l)\n",
    "    \n",
    "    if sum==int(n):\n",
    "        return True\n",
    "    else:\n",
    "        return False\n",
    "\n",
    "def noddarmstrong(n):\n",
    "    for i in range(1,int(n)+1):\n",
    "        if armstrong(i)==True:\n",
    "            \n",
    "            if(i%2!=0):\n",
    "                print(i,end=\" \")\n",
    "    \n",
    "noddarmstrong(500)    \n",
    "    "
   ]
  },
  {
   "cell_type": "markdown",
   "metadata": {},
   "source": [
    "#### Function to generate Multiplication table for a number in a given range \n",
    "10 in the range(100, 102) inclusive\n",
    "\n",
    "10 x 100 = 1000\n",
    "\n",
    "10 x 101 = 1010\n",
    "\n",
    "10 x 102 = 1020\n"
   ]
  },
  {
   "cell_type": "code",
   "execution_count": null,
   "metadata": {},
   "outputs": [],
   "source": []
  }
 ],
 "metadata": {
  "kernelspec": {
   "display_name": "Python 3",
   "language": "python",
   "name": "python3"
  },
  "language_info": {
   "codemirror_mode": {
    "name": "ipython",
    "version": 3
   },
   "file_extension": ".py",
   "mimetype": "text/x-python",
   "name": "python",
   "nbconvert_exporter": "python",
   "pygments_lexer": "ipython3",
   "version": "3.7.3"
  }
 },
 "nbformat": 4,
 "nbformat_minor": 2
}
