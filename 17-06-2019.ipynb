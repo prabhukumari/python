{
 "cells": [
  {
   "cell_type": "code",
   "execution_count": 13,
   "metadata": {},
   "outputs": [
    {
     "name": "stdout",
     "output_type": "stream",
     "text": [
      "abac\n",
      "ABAC\n"
     ]
    }
   ],
   "source": [
    "n=input()\n",
    "l=[]\n",
    "for i in range(len(n)):\n",
    "    \n",
    "    if n[i].islower():\n",
    "        \n",
    "        a=n[i].upper()\n",
    "        l.append(a)\n",
    "print(\"\".join(l))        \n",
    "  \n",
    "    "
   ]
  },
  {
   "cell_type": "code",
   "execution_count": 8,
   "metadata": {},
   "outputs": [
    {
     "name": "stdout",
     "output_type": "stream",
     "text": [
      "python\n",
      "python\n",
      "p\n",
      "y\n",
      "t\n",
      "h\n",
      "o\n",
      "n\n"
     ]
    }
   ],
   "source": [
    "n=input()\n",
    "print(n)\n",
    "for i in range(len(n)):\n",
    "    print(n[i])"
   ]
  },
  {
   "cell_type": "code",
   "execution_count": 10,
   "metadata": {},
   "outputs": [
    {
     "name": "stdout",
     "output_type": "stream",
     "text": [
      "3\n",
      "1 3 1\n",
      "3\n"
     ]
    }
   ],
   "source": [
    "# find product\n",
    "\n",
    "def product(l):\n",
    "    prod=1\n",
    "    \n",
    "    for i in l:\n",
    "        \n",
    "        prod=i*prod\n",
    "        print(prod)\n",
    "    return prod\n",
    "\n",
    "n=int(input())\n",
    "b=input().split()\n",
    "l=[]\n",
    "prod=1\n",
    "for i in range(n):\n",
    "    prod=(int(b[i]))*prod\n",
    "    \n",
    "print(prod)\n",
    "    \n",
    "\n",
    "\n"
   ]
  },
  {
   "cell_type": "code",
   "execution_count": 17,
   "metadata": {},
   "outputs": [
    {
     "name": "stdout",
     "output_type": "stream",
     "text": [
      "4\n"
     ]
    }
   ],
   "source": [
    "l=[1,2,3,4]\n",
    "print(len(l))"
   ]
  },
  {
   "cell_type": "code",
   "execution_count": null,
   "metadata": {},
   "outputs": [
    {
     "name": "stdout",
     "output_type": "stream",
     "text": [
      "2\n",
      "6\n",
      "1\n",
      "NO\n",
      "6\n",
      "YES\n",
      "7\n",
      "NO\n",
      "8\n",
      "NO\n"
     ]
    }
   ],
   "source": [
    "def isprime(n):\n",
    "    flag=0\n",
    "    c=0\n",
    "    for i in range(1,n+1):\n",
    "        if n%i==0:\n",
    "            flag+=1\n",
    "            c+=1\n",
    "    if flag==2:\n",
    "        return True\n",
    "      \n",
    "def factors(n):\n",
    "    a=[]  \n",
    "    for i in range(1,n+1):\n",
    "        if n%i==0:\n",
    "            if isprime(i)==1:\n",
    "                a.append(i)\n",
    "    if len(a)>=2:\n",
    "        print(\"YES\")\n",
    "    else:\n",
    "        print(\"NO\")\n",
    "    \n",
    "\n",
    "p=int(input())\n",
    "t=int(input())\n",
    "for i in range(t):\n",
    "    r=int(input())\n",
    "    factors(r)\n",
    "\n",
    "\n",
    "\n",
    "            \n",
    "            \n",
    "            \n",
    "    "
   ]
  },
  {
   "cell_type": "code",
   "execution_count": 7,
   "metadata": {},
   "outputs": [
    {
     "name": "stdout",
     "output_type": "stream",
     "text": [
      "s45#45\n",
      "s45#45\n",
      "s45#45\n",
      "s45#45\n",
      "s45#45\n",
      "4 1\n"
     ]
    }
   ],
   "source": [
    "a=input()\n",
    "c=0\n",
    "d=0\n",
    "for i in a:\n",
    "    if i.isdigit():\n",
    "        print(a)\n",
    "        c=c+1\n",
    "    elif i.isalpha():\n",
    "        d=d+1\n",
    "print(c,d)"
   ]
  },
  {
   "cell_type": "code",
   "execution_count": 2,
   "metadata": {},
   "outputs": [
    {
     "name": "stdout",
     "output_type": "stream",
     "text": [
      "2\n"
     ]
    }
   ],
   "source": [
    "l=[0,0,1,0,1,0]\n",
    "print(l.index(max(l)))"
   ]
  },
  {
   "cell_type": "code",
   "execution_count": 17,
   "metadata": {},
   "outputs": [
    {
     "name": "stdout",
     "output_type": "stream",
     "text": [
      "3\n",
      "4\n",
      "5\n",
      "6\n"
     ]
    }
   ],
   "source": [
    "l=[3,4,5,6]\n",
    "\n",
    "\n",
    "\n",
    "for i in l:\n",
    "    print(i)\n",
    "    "
   ]
  },
  {
   "cell_type": "code",
   "execution_count": 19,
   "metadata": {},
   "outputs": [
    {
     "name": "stdout",
     "output_type": "stream",
     "text": [
      "8\n"
     ]
    }
   ],
   "source": [
    "print(2**3)\n"
   ]
  },
  {
   "cell_type": "code",
   "execution_count": null,
   "metadata": {},
   "outputs": [],
   "source": []
  }
 ],
 "metadata": {
  "kernelspec": {
   "display_name": "Python 3",
   "language": "python",
   "name": "python3"
  },
  "language_info": {
   "codemirror_mode": {
    "name": "ipython",
    "version": 3
   },
   "file_extension": ".py",
   "mimetype": "text/x-python",
   "name": "python",
   "nbconvert_exporter": "python",
   "pygments_lexer": "ipython3",
   "version": "3.7.3"
  }
 },
 "nbformat": 4,
 "nbformat_minor": 2
}
