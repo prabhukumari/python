{
 "cells": [
  {
   "cell_type": "markdown",
   "metadata": {},
   "source": [
    "### Maps\n"
   ]
  },
  {
   "cell_type": "code",
   "execution_count": 3,
   "metadata": {},
   "outputs": [
    {
     "data": {
      "text/plain": [
       "8"
      ]
     },
     "execution_count": 3,
     "metadata": {},
     "output_type": "execute_result"
    }
   ],
   "source": [
    "#map(function,Iterable)\n",
    "def powerN(a,n):\n",
    "    #return a**n\n",
    "    r=1\n",
    "    for i in range(0,n):\n",
    "        r*=a\n",
    "    return r\n",
    "powerN(2,3)\n",
    "\n",
    "    "
   ]
  },
  {
   "cell_type": "code",
   "execution_count": 5,
   "metadata": {},
   "outputs": [
    {
     "data": {
      "text/plain": [
       "8"
      ]
     },
     "execution_count": 5,
     "metadata": {},
     "output_type": "execute_result"
    }
   ],
   "source": [
    "def recursivepowerN(a,n):\n",
    "    if n==0:\n",
    "        return 1\n",
    "    else:\n",
    "        return a*recursivepowerN(a,n-1)\n",
    "recursivepowerN(2,3)"
   ]
  },
  {
   "cell_type": "code",
   "execution_count": 49,
   "metadata": {},
   "outputs": [
    {
     "name": "stdout",
     "output_type": "stream",
     "text": [
      "[1, 8, 27, 64, 125, 125, 343]\n",
      "{64, 1, 8, 343, 27, 125}\n",
      "[1, 2, 3, 4, 5, 5, 7]\n",
      "['1', '2', '3', '4', '5', '5', '7']\n"
     ]
    },
    {
     "data": {
      "text/plain": [
       "[1, 8, 27, 64, 125, 125, 343]"
      ]
     },
     "execution_count": 49,
     "metadata": {},
     "output_type": "execute_result"
    }
   ],
   "source": [
    "def cube(n):\n",
    "    return n**3\n",
    "\n",
    "\n",
    "li=[1,2,3,4,5,5,7]\n",
    "print(list(map(cube,li)))\n",
    "print(set(map(cube,li)))\n",
    "print(list(map(int,li)))\n",
    "print(list(map(str,li)))\n",
    "#-------or it can be written as using list compreshension---\"\n",
    "#numbers=[int(i)]\n",
    "[cube(int(i)) for i in li]"
   ]
  },
  {
   "cell_type": "markdown",
   "metadata": {},
   "source": [
    "#### Filter\n",
    "Used to check boolean values\n"
   ]
  },
  {
   "cell_type": "code",
   "execution_count": 50,
   "metadata": {},
   "outputs": [
    {
     "data": {
      "text/plain": [
       "[1, 2, 3]"
      ]
     },
     "execution_count": 50,
     "metadata": {},
     "output_type": "execute_result"
    }
   ],
   "source": [
    "li=[1,2,'a','b','c',3]\n",
    "def isDigit(c):\n",
    "    c=str(c)\n",
    "    if c.isdigit():\n",
    "        return True\n",
    "    return False\n",
    "#isDigit(1)\n",
    "list(filter(isDigit,li))\n",
    "\n",
    "\n"
   ]
  },
  {
   "cell_type": "code",
   "execution_count": 44,
   "metadata": {},
   "outputs": [
    {
     "data": {
      "text/plain": [
       "[503, 509, 521, 523, 541, 547, 557, 563, 569, 571, 577, 587, 593, 599]"
      ]
     },
     "execution_count": 44,
     "metadata": {},
     "output_type": "execute_result"
    }
   ],
   "source": [
    "#filter all primes in a range\n",
    "def prime(n):\n",
    "    flag=0\n",
    "    for i in range(1,n+1):\n",
    "        if n%i==0:\n",
    "            flag+=1\n",
    "    if flag==2:\n",
    "        return True\n",
    "    else:\n",
    "        return False\n",
    "#prime(3)\n",
    "#li=[1,3,5,6,8,7,4,89]\n",
    "#list(filter(prime,li))\n",
    "lb,ub=500,600\n",
    "list(filter(prime,range(lb,ub)))    \n",
    "            \n",
    "        "
   ]
  },
  {
   "cell_type": "code",
   "execution_count": 47,
   "metadata": {},
   "outputs": [
    {
     "name": "stdout",
     "output_type": "stream",
     "text": [
      "[503, 509, 521, 523, 541, 547, 557, 563, 569, 571, 577, 587, 593, 599]\n"
     ]
    }
   ],
   "source": [
    "#using list comprehension\n",
    "print([i for i in range(lb,ub+1) if prime(i)])\n",
    "##maps cannot be used for conditional check it is used\n",
    "#for mathematical expressions only"
   ]
  },
  {
   "cell_type": "code",
   "execution_count": null,
   "metadata": {},
   "outputs": [],
   "source": []
  },
  {
   "cell_type": "markdown",
   "metadata": {},
   "source": [
    "### Lambda\n",
    "#Anonymous functions can be embedded into list comprehension,maps,filters"
   ]
  },
  {
   "cell_type": "code",
   "execution_count": 55,
   "metadata": {},
   "outputs": [
    {
     "data": {
      "text/plain": [
       "27"
      ]
     },
     "execution_count": 55,
     "metadata": {},
     "output_type": "execute_result"
    }
   ],
   "source": [
    "a=lambda x:x**3\n",
    "a(3)\n"
   ]
  },
  {
   "cell_type": "code",
   "execution_count": 56,
   "metadata": {},
   "outputs": [
    {
     "data": {
      "text/plain": [
       "[1, 8, 27, 64, 125, 216]"
      ]
     },
     "execution_count": 56,
     "metadata": {},
     "output_type": "execute_result"
    }
   ],
   "source": [
    "list(map(lambda x:x**3,[1,2,3,4,5,6]))"
   ]
  },
  {
   "cell_type": "code",
   "execution_count": 57,
   "metadata": {},
   "outputs": [
    {
     "data": {
      "text/plain": [
       "[2, 4, 6]"
      ]
     },
     "execution_count": 57,
     "metadata": {},
     "output_type": "execute_result"
    }
   ],
   "source": [
    "list(filter(lambda x:(x%2==0),[1,2,3,4,5,6]))"
   ]
  },
  {
   "cell_type": "code",
   "execution_count": 65,
   "metadata": {},
   "outputs": [
    {
     "data": {
      "text/plain": [
       "[9.0, 13.5, 9.0, 11.0, 7.5, 14.0, 13.0]"
      ]
     },
     "execution_count": 65,
     "metadata": {},
     "output_type": "execute_result"
    }
   ],
   "source": [
    "from random import randint\n",
    "internal1=[randint(0,25) for i in range(10)]\n",
    "internal2=[randint(0,25) for i in range(10)]\n",
    "aveginternal=list(map(lambda x,y: (x+y)/2,internal1,internal2))\n",
    "failedmarks=list(filter(lambda f:f<15,aveginternal))\n",
    "failedmarks"
   ]
  },
  {
   "cell_type": "code",
   "execution_count": 67,
   "metadata": {},
   "outputs": [],
   "source": [
    "def generateMarks(n,lb,ub):\n",
    "    filename='Datafiles/marks.txt'\n",
    "    with open(filename,'w') as f:\n",
    "        for i in range(n):\n",
    "            marks=randint(lb,ub)\n",
    "            f.write(str(marks)+'\\n')\n",
    "generateMarks(300,0,100)"
   ]
  },
  {
   "cell_type": "code",
   "execution_count": 71,
   "metadata": {},
   "outputs": [
    {
     "data": {
      "text/plain": [
       "49"
      ]
     },
     "execution_count": 71,
     "metadata": {},
     "output_type": "execute_result"
    }
   ],
   "source": [
    "filepath='Datafiles/marks.txt'\n",
    "def readmarkslist(filepath):\n",
    "    with open(filepath,'r') as f:\n",
    "        filedata=f.read().split()\n",
    "    return list(map(int,filedata))\n",
    "def classaverage(filepath):\n",
    "    markslist=readmarkslist(filepath)\n",
    "    return sum(markslist)//len(markslist)\n",
    "classaverage(filepath)"
   ]
  },
  {
   "cell_type": "markdown",
   "metadata": {},
   "source": [
    "### Data Encryption\n",
    "0-->4\n",
    "1-->5\n",
    "2-->6\n",
    "3-->7\n",
    "4-->8\n",
    "5--->9\n",
    "6-->0\n",
    "7-->1\n",
    "8-->2\n",
    "9--->3\n",
    "\n"
   ]
  },
  {
   "cell_type": "code",
   "execution_count": 7,
   "metadata": {},
   "outputs": [],
   "source": [
    "#function to generate a key for encryption\n",
    "keypath='Datafiles/key.txt'\n",
    "def generatekey(keypath):\n",
    "    with open(keypath,'w') as f:\n",
    "        for i in range(10):\n",
    "            if i<6:\n",
    "                f.write(str(i)+\" \"+str(i+4)+\"\\n\")\n",
    "            else:\n",
    "                f.write(str(i)+\" \"+str(i-6)+\"\\n\")\n",
    "            \n",
    "generatekey(keypath)        \n",
    "    \n",
    "    "
   ]
  },
  {
   "cell_type": "code",
   "execution_count": 12,
   "metadata": {},
   "outputs": [
    {
     "name": "stdout",
     "output_type": "stream",
     "text": [
      "{'0': '4', '1': '5', '2': '6', '3': '7', '4': '8', '5': '9', '6': '0', '7': '1', '8': '2', '9': '3'}\n"
     ]
    }
   ],
   "source": [
    "def dictionarykeyfile(keyfile):\n",
    "    key={}\n",
    "    with open(keyfile,'r') as f:\n",
    "        for line in f:\n",
    "            line=line.split()\n",
    "            key[line[0]]=line[1]\n",
    "    print(key)\n",
    "\n",
    "dictionarykeyfile(keyfile)\n",
    "keyfile='Datafiles/key.txt'"
   ]
  },
  {
   "cell_type": "code",
   "execution_count": 15,
   "metadata": {},
   "outputs": [],
   "source": [
    "def dictionarykeyfile(keyfile):\n",
    "    key={}\n",
    "    with open(keyfile,'r') as f:\n",
    "        for line in f:\n",
    "            line=line.split()\n",
    "            key[line[0]]=line[1]\n",
    "    return key\n",
    "\n",
    "def encryptmarksdata(datafile,keyfile):\n",
    "    key=dictionarykeyfile(keyfile)\n",
    "    with open(datafile,'r') as f:\n",
    "        filedata=f.read().split('\\n')\n",
    "    with open('Datafiles/encryptedMarks','w') as f:\n",
    "        for mark in filedata:\n",
    "            line=''\n",
    "            for n in mark:\n",
    "                \n",
    "                line+=key[n]\n",
    "            f.write(line+'\\n')\n",
    "    return\n",
    "datafile='Datafiles/marks.txt'\n",
    "keyfile='Datafiles/key.txt'\n",
    "encryptmarksdata(datafile,keyfile)    "
   ]
  },
  {
   "cell_type": "code",
   "execution_count": 20,
   "metadata": {},
   "outputs": [],
   "source": [
    "def decryptMarksData(encryptedfile,keyfile):\n",
    "    key=dictionarykeyfile(keyfile)\n",
    "    newkey={}\n",
    "    for key,value in key.items():\n",
    "        newkey[value]=key\n",
    "    with open(encryptedfile,'r') as f:\n",
    "        encrypteddata=f.read().split('\\n')\n",
    "    with open('Datafiles/decryptedMarks.txt','w') as f:\n",
    "    \n",
    "        for encryptedmark in encrypteddata:\n",
    "            line=''\n",
    "            for n in encryptedmark:\n",
    "                line+=newkey[n]\n",
    "            f.write(line+'\\n')\n",
    "encryptedfile='Datafiles/encryptedMarks'\n",
    "keyfile='Datafiles/key.txt'\n",
    "decryptMarksData(encryptedfile,keyfile)"
   ]
  },
  {
   "cell_type": "code",
   "execution_count": null,
   "metadata": {},
   "outputs": [],
   "source": [
    "# PROBLEM2 ---- Anagrams?????\n",
    "\n",
    "t=int(input())\n",
    "def charDeletionAnagrams(s1,s2):\n",
    "    uncommn =[]\n",
    "    for i in s1:\n",
    "        if i not in s2:\n",
    "            uncommn.append(i)\n",
    "    for i in s2:\n",
    "        if i not in s1:\n",
    "            uncommn.append(i)\n",
    "    count =len(uncommn)\n",
    "    freqs1={}\n",
    "    freqs2={}\n",
    "    uniqs1=[]\n",
    "    uniqs2=[]\n",
    "   #Common charector freqvency count\n",
    "    for i in s1:\n",
    "        if i not in uncommn and i not in uniqs1: \n",
    "            freqs1[i]=s1.count(i)\n",
    "            uniqs1.append(i)\n",
    "    for i in s2:\n",
    "        if i not in uncommn and i not in uniqs2: \n",
    "            freqs2[i]=s2.count(i)\n",
    "            uniqs2.append(i)\n",
    "    for key in freqs1.keys():\n",
    "        count+=abs(freqs1[key]-freqs2[key])\n",
    "        return count\n",
    "\n",
    "\n",
    "for i in range(0,t):\n",
    "    s1=input()\n",
    "    s2=input()\n",
    "    print(charDeletionAnagrams(s1,s2))\n",
    "    "
   ]
  }
 ],
 "metadata": {
  "kernelspec": {
   "display_name": "Python 3",
   "language": "python",
   "name": "python3"
  },
  "language_info": {
   "codemirror_mode": {
    "name": "ipython",
    "version": 3
   },
   "file_extension": ".py",
   "mimetype": "text/x-python",
   "name": "python",
   "nbconvert_exporter": "python",
   "pygments_lexer": "ipython3",
   "version": "3.7.3"
  }
 },
 "nbformat": 4,
 "nbformat_minor": 2
}
