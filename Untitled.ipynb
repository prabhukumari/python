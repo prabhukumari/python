{
 "cells": [
  {
   "cell_type": "code",
   "execution_count": 40,
   "metadata": {},
   "outputs": [
    {
     "name": "stdout",
     "output_type": "stream",
     "text": [
      "5\n",
      "hacker\n",
      "['hacker']\n",
      "google\n",
      "['hacker', 'google']\n",
      "wiki\n",
      "['hacker', 'google', 'wiki']\n",
      "hacker\n",
      "['hacker', 'google', 'wiki', 'hacker']\n",
      "hacker\n",
      "['hacker', 'google', 'wiki', 'hacker', 'hacker']\n",
      "{'hacker': 3, 'google': 1, 'wiki': 1}\n"
     ]
    }
   ],
   "source": [
    "b=[]\n",
    "d={}\n",
    "\n",
    "n=int(input())\n",
    "for i in range(n):\n",
    "    a=input()\n",
    "    b.append(a)\n",
    "    print(b)\n",
    "\n",
    "for i in b:\n",
    "    \n",
    "    if i in d:\n",
    "        d[i]+=1\n",
    "    else:\n",
    "        d[i]=1\n",
    "print(d)"
   ]
  },
  {
   "cell_type": "code",
   "execution_count": 52,
   "metadata": {},
   "outputs": [
    {
     "name": "stdout",
     "output_type": "stream",
     "text": [
      "5\n",
      "hacker\n",
      "earth\n",
      "earth\n",
      "wiki\n",
      "gmail\n",
      "['hacker', 'earth', 'earth', 'wiki', 'gmail']\n",
      "{'hacker': 1, 'earth': 2, 'wiki': 1, 'gmail': 1}\n",
      "{1: ['hacker', 'wiki', 'gmail'], 2: ['earth']}\n",
      "['hacker', 'wiki', 'gmail']\n",
      "['earth']\n",
      "{1: ['gmail', 'hacker', 'wiki'], 2: ['earth']}\n",
      "earth\n",
      "gmail\n",
      "hacker\n",
      "wiki\n"
     ]
    }
   ],
   "source": [
    "b=[]\n",
    "d={}\n",
    "n=int(input())\n",
    "for i in range(n):\n",
    "    a=input()\n",
    "    b.append(a)\n",
    "print(b)\n",
    "\n",
    "for i in b:\n",
    "    \n",
    "    if i in d:\n",
    "        d[i]+=1\n",
    "    else:\n",
    "        d[i]=1\n",
    "print(d)\n",
    "e={}\n",
    "for i in d.items():\n",
    "    if i[1] not in e:\n",
    "        e[i[1]]=[]\n",
    "        e[i[1]].append(i[0])\n",
    "    else:\n",
    "        e[i[1]].append(i[0])\n",
    "        \n",
    "print(e)\n",
    "for i in e.values():\n",
    "    print(i)\n",
    "    i.sort()\n",
    "print(e)\n",
    "e= sorted(e.items(),reverse=True)\n",
    "for t in e:\n",
    "    for i in t[1]:\n",
    "        print(i)\n",
    "        \n",
    "    \n",
    "    "
   ]
  },
  {
   "cell_type": "code",
   "execution_count": null,
   "metadata": {},
   "outputs": [],
   "source": []
  }
 ],
 "metadata": {
  "kernelspec": {
   "display_name": "Python 3",
   "language": "python",
   "name": "python3"
  },
  "language_info": {
   "codemirror_mode": {
    "name": "ipython",
    "version": 3
   },
   "file_extension": ".py",
   "mimetype": "text/x-python",
   "name": "python",
   "nbconvert_exporter": "python",
   "pygments_lexer": "ipython3",
   "version": "3.7.3"
  }
 },
 "nbformat": 4,
 "nbformat_minor": 2
}
